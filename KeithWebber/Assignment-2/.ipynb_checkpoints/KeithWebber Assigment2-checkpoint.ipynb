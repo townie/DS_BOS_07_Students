{
 "cells": [
  {
   "cell_type": "markdown",
   "metadata": {},
   "source": []
  },
  {
   "cell_type": "code",
   "execution_count": 34,
   "metadata": {
    "collapsed": false
   },
   "outputs": [
    {
     "name": "stdout",
     "output_type": "stream",
     "text": [
      "<class 'bs4.BeautifulSoup'>\n"
     ]
    }
   ],
   "source": [
    "from bs4 import BeautifulSoup\n",
    "import urllib2\n",
    "page = urllib2.urlopen('http://espn.go.com/nba/statistics/player/_/stat/scoring-per-game/sort/avgPoints/qualified/false').read()\n",
    "soup = BeautifulSoup(page)\n",
    "print type(soup)"
   ]
  },
  {
   "cell_type": "markdown",
   "metadata": {},
   "source": []
  },
  {
   "cell_type": "code",
   "execution_count": 35,
   "metadata": {
    "collapsed": false
   },
   "outputs": [
    {
     "data": {
      "text/plain": [
       "u'<!DOCTYPE html>\\n<html xmlns:fb=\"http://www.facebook.com/2008/fbml\">\\n <head>\\n  <script src=\"http://sports-ak.espn.go.com/sports/optimizely.js\">\\n  </script>\\n  <meta charset=\"utf-8\"/>\\n  <meta content=\"IE=edge,chrome=1\" http-equiv=\"X-UA-Compatible\"/>\\n  <link href=\"http://a.espncdn.com/prod/assets/icons/E.svg\" mask=\"\" rel=\"icon\" sizes=\"any\"/>\\n  <meta content=\"#CC0000\" name=\"theme-color\"/>\\n  <script type=\"text/javascript\">\\n   if(true && navigator && navigator.userAgent.toLowerCase().indexOf(\"teamstream\") >= 0) {\\n        window.location = \\'http://a.m.espn.go.com/mobilecache/general/apps/sc\\';\\n    }\\n  </script>\\n  <title>\\n   2015-16 Regular Season NBA Player Stats and League Leaders - Scoring Per Game - National Basketball Association - ESPN\\n  </title>\\n  <meta content=\"xuj1ODRluWa0frM-BjIr_aSHoUC7HB5C1MgmYAM_GkA\" name=\"google-site-verification\"/>\\n  <meta content=\"B1FEB7C682C46C8FCDA3130F3D18AC28\" name=\"msvalidate.01\"/>\\n  <meta content=\"noodp\" name=\"googlebot\"/>\\n  <meta content=\"index, follow\" na'"
      ]
     },
     "execution_count": 35,
     "metadata": {},
     "output_type": "execute_result"
    }
   ],
   "source": [
    "soup.prettify()[0:1000]"
   ]
  },
  {
   "cell_type": "markdown",
   "metadata": {},
   "source": [
    "## Parsing HTML\n",
    "\n",
    "By \"parsing HTML\", we mean pulling out only the relevant tags/attributes for our analysis.  What Beautiful Soup does is provide a handy bunch of methods for doing this efficiently.\n",
    "\n",
    "### find method\n",
    "\n",
    "The find method will search for and return the first tag matching your corresponding search criteria, if it exists.  You can specify tag and attribute info etc.  There is also a findAll method that will return a collection of tags matching your query."
   ]
  },
  {
   "cell_type": "code",
   "execution_count": 36,
   "metadata": {
    "collapsed": false
   },
   "outputs": [],
   "source": [
    "table_div = soup.find(id='my-players-table')\n",
    "# print table_div.prettify()[0:4000]"
   ]
  },
  {
   "cell_type": "markdown",
   "metadata": {},
   "source": [
    "Notice that the object returned by the find method is just another inner HTML structure, which we can step through just like we would have with the original soup object.  We've gone to the location in the webpage where the table that we seek starts, now we can use find again to get to the table data."
   ]
  },
  {
   "cell_type": "code",
   "execution_count": 37,
   "metadata": {
    "collapsed": false
   },
   "outputs": [
    {
     "name": "stdout",
     "output_type": "stream",
     "text": [
      "<table cellpadding=\"3\" cellspacing=\"1\" class=\"tablehead\">\n",
      "<tr align=\"right\" class=\"colhead\"><td align=\"left\" style=\"width:20px;\">RK</td><td align=\"left\">PLAYER</td><td align=\"left\">TEAM</td><td><a href=\"http://espn.go.com/nba/statistics/player/_/stat/scoring-per-game/sort/gamesPlayed/qualified/false\" title=\"Games Played\">GP</a></td><td><a href=\"http://espn.go.com/nba/statistics/player/_/stat/scoring-per-game/sort/avgMinutes/qualified/false\" title=\"Minutes Per Game\">MPG</a></td><td><a href=\"http://espn.go.com/nba/statistics/player/_/stat/scoring-per-game/sort/avgPoints/qualified/false/order/false\" title=\"Points Per Game\">PTS</a></td><td><span title=\"Field Goals Made-Attempted Per Game\">FGM-FGA</span></td><td><a href=\"http://espn.go.com/nba/statistics/player/_/stat/scoring-per-game/sort/fieldGoalPct/qualified/false\" title=\"Field Goal Percentage\">FG%</a></td><td><span title=\"3-Point Field Goals Made-Attempted Per Game\">3PM-3PA</span></td><td><a href=\"http://espn.go.com/nba/statistics/player/_/stat/scoring-per-game/sort/threePointFieldGoalPct/qualified/false\" title=\"3-Point Field Goal Percentage\">3P%</a></td><td><span title=\"Free Throws Made-Attempted Per Game\">FTM-FTA</span></td><td><a href=\"http://espn.go.com/nba/statistics/player/_/stat/scoring-per-game/sort/freeThrowPct/qualified/false\" title=\"Free Throws Percentage\">FT%</a></td></tr><tr align=\"right\" class=\"oddrow player-46-3975\"><td align=\"left\">1</td><td align=\"left\"><a href=\"http://espn.go.com/nba/player/_/id/3975/stephen-curry\">Stephen Curry</a>, PG</td><td align=\"left\">GS</td><td>7</td><td>33.3</td><td class=\"sortcell\">33.9</td><td>11.1-20.1</td><td>.553</td><td>5.4-11.4</td><td>.475</td><td>6.1-6.7</td><td>.915</td></tr><tr align=\"right\" class=\"evenrow player-46-3202\"><td align=\"left\">2</td><td align=\"left\"><a href=\"http://espn.go.com/nba/player/_/id/3202/kevin-durant\">Kevin Durant</a>, SF</td><td align=\"left\">OKC</td><td>7</td><td>37.3</td><td class=\"sortcell\">30.1</td><td>10.4-20.7</td><td>.503</td><td>2.7-6.4</td><td>.422</td><td>6.6-7.4</td><td>.885</td></tr><tr align=\"right\" class=\"oddrow player-46-3992\"><td align=\"left\">3</td><td align=\"left\"><a href=\"http://espn.go.com/nba/player/_/id/3992/james-harden\">James Harden</a>, SG</td><td align=\"left\">HOU</td><td>7</td><td>39.4</td><td class=\"sortcell\">29.7</td><td>8.1-21.6</td><td>.377</td><td>2.6-10.7</td><td>.240</td><td>10.9-12.7</td><td>.854</td></tr><tr align=\"right\" class=\"evenrow player-46-3989\"><td align=\"left\">4</td><td align=\"left\"><a href=\"http://espn.go.com/nba/player/_/id/3989/blake-griffin\">Blake Griffin</a>, PF</td><td align=\"left\">LAC</td><td>6</td><td>35.2</td><td class=\"sortcell\">29.3</td><td>11.7-19.5</td><td>.598</td><td>0.0-0.5</td><td>.000</td><td>6.0-7.7</td><td>.783</td></tr><tr align=\"right\" class=\"oddrow player-46-6606\"><td align=\"left\">5</td><td align=\"left\"><a href=\"http://espn.go.com/nba/player/_/id/6606/damian-lillard\">Damian Lillard</a>, PG</td><td align=\"left\">POR</td><td>7</td><td>36.4</td><td class=\"sortcell\">27.1</td><td>9.7-20.4</td><td>.476</td><td>3.9-9.0</td><td>.429</td><td>3.9-4.4</td><td>.871</td></tr><tr align=\"right\" class=\"evenrow player-46-3468\"><td align=\"left\">6</td><td align=\"left\"><a href=\"http://espn.go.com/nba/player/_/id/3468/russell-westbrook\">Russell Westbrook</a>, PG</td><td align=\"left\">OKC</td><td>7</td><td>35.7</td><td class=\"sortcell\">26.3</td><td>10.0-21.0</td><td>.476</td><td>1.6-5.0</td><td>.314</td><td>4.7-5.6</td><td>.846</td></tr><tr align=\"right\" class=\"oddrow player-46-6583\"><td align=\"left\">7</td><td align=\"left\"><a href=\"http://espn.go.com/nba/player/_/id/6583/anthony-davis\">Anthony Davis</a>, PF</td><td align=\"left\">NO</td><td>6</td><td>38.2</td><td class=\"sortcell\">25.2</td><td>8.3-18.0</td><td>.463</td><td>0.8-2.3</td><td>.357</td><td>7.7-10.2</td><td>.754</td></tr><tr align=\"right\" class=\"evenrow player-46-1966\"><td align=\"left\">8</td><td align=\"left\"><a href=\"http://espn.go.com/nba/player/_/id/1966/lebron-james\">LeBron James</a>, SF</td><td align=\"left\">CLE</td><td>7</td><td>34.4</td><td class=\"sortcell\">24.4</td><td>9.9-20.1</td><td>.489</td><td>0.7-3.7</td><td>.192</td><td>4.0-6.7</td><td>.596</td></tr><tr align=\"right\" class=\"oddrow player-46-6443\"><td align=\"left\">9</td><td align=\"left\"><a href=\"http://espn.go.com/nba/player/_/id/6443/reggie-jackson\">Reggie Jackson</a>, PG</td><td align=\"left\">DET</td><td>6</td><td>33.2</td><td class=\"sortcell\">23.2</td><td>8.5-18.7</td><td>.455</td><td>1.7-3.7</td><td>.455</td><td>4.5-5.7</td><td>.794</td></tr><tr align=\"right\" class=\"evenrow player-46-4251\"><td align=\"left\">10</td><td align=\"left\"><a href=\"http://espn.go.com/nba/player/_/id/4251/paul-george\">Paul George</a>, SF</td><td align=\"left\">IND</td><td>7</td><td>35.7</td><td class=\"sortcell\">23.0</td><td>7.6-18.0</td><td>.421</td><td>2.0-6.1</td><td>.326</td><td>5.9-6.9</td><td>.854</td></tr><tr align=\"right\" class=\"colhead\"><td align=\"left\" style=\"width:20px;\">RK</td><td align=\"left\">PLAYER</td><td align=\"left\">TEAM</td><td><a href=\"http://espn.go.com/nba/statistics/player/_/stat/scoring-per-game/sort/gamesPlayed/qualified/false\" title=\"Games Played\">GP</a></td><td><a href=\"http://espn.go.com/nba/statistics/player/_/stat/scoring-per-game/sort/avgMinutes/qualified/false\" title=\"Minutes Per Game\">MPG</a></td><td><a href=\"http://espn.go.com/nba/statistics/player/_/stat/scoring-per-game/sort/avgPoints/qualified/false/order/false\" title=\"Points Per Game\">PTS</a></td><td><span title=\"Field Goals Made-Attempted Per Game\">FGM-FGA</span></td><td><a href=\"http://espn.go.com/nba/statistics/player/_/stat/scoring-per-game/sort/fieldGoalPct/qualified/false\" title=\"Field Goal Percentage\">FG%</a></td><td><span title=\"3-Point Field Goals Made-Attempted Per Game\">3PM-3PA</span></td><td><a href=\"http://espn.go.com/nba/statistics/player/_/stat/scoring-per-game/sort/threePointFieldGoalPct/qualified/false\" title=\"3-Point Field Goal Percentage\">3P%</a></td><td><span title=\"Free Throws Made-Attempted Per Game\">FTM-FTA</span></td><td><a href=\"http://espn.go.com/nba/statistics/player/_/stat/scoring-per-game/sort/freeThrowPct/qualified/false\" title=\"Free Throws Percentage\">FT%</a></td></tr><tr align=\"right\" class=\"oddrow player-46-6580\"><td align=\"left\">11</td><td align=\"left\"><a href=\"http://espn.go.com/nba/player/_/id/6580/bradley-beal\">Bradley Beal</a>, SG</td><td align=\"left\">WSH</td><td>6</td><td>34.7</td><td class=\"sortcell\">22.7</td><td>8.7-17.8</td><td>.486</td><td>2.7-5.7</td><td>.471</td><td>2.7-3.3</td><td>.800</td></tr><tr align=\"right\" class=\"evenrow player-46-6472\"><td align=\"left\">12</td><td align=\"left\"><a href=\"http://espn.go.com/nba/player/_/id/6472/isaiah-thomas\">Isaiah Thomas</a>, PG</td><td align=\"left\">BOS</td><td>5</td><td>29.2</td><td class=\"sortcell\">22.0</td><td>7.0-17.4</td><td>.402</td><td>1.6-5.0</td><td>.320</td><td>6.4-7.0</td><td>.914</td></tr><tr align=\"right\" class=\"oddrow player-46-4258\"><td align=\"left\"> </td><td align=\"left\"><a href=\"http://espn.go.com/nba/player/_/id/4258/demarcus-cousins\">DeMarcus Cousins</a>, PF</td><td align=\"left\">SAC</td><td>3</td><td>26.0</td><td class=\"sortcell\">22.0</td><td>7.0-16.7</td><td>.420</td><td>1.3-3.3</td><td>.400</td><td>6.7-9.0</td><td>.741</td></tr><tr align=\"right\" class=\"evenrow player-46-4238\"><td align=\"left\">14</td><td align=\"left\"><a href=\"http://espn.go.com/nba/player/_/id/4238/eric-bledsoe\">Eric Bledsoe</a>, PG</td><td align=\"left\">PHX</td><td>7</td><td>34.4</td><td class=\"sortcell\">21.9</td><td>7.9-17.4</td><td>.451</td><td>1.3-3.7</td><td>.346</td><td>4.9-6.3</td><td>.773</td></tr><tr align=\"right\" class=\"oddrow player-46-6450\"><td align=\"left\">15</td><td align=\"left\"><a href=\"http://espn.go.com/nba/player/_/id/6450/kawhi-leonard\">Kawhi Leonard</a>, SF</td><td align=\"left\">SA</td><td>6</td><td>33.3</td><td class=\"sortcell\">21.8</td><td>9.2-18.3</td><td>.500</td><td>1.0-3.3</td><td>.300</td><td>2.5-2.7</td><td>.938</td></tr><tr align=\"right\" class=\"evenrow player-46-2490149\"><td align=\"left\">16</td><td align=\"left\"><a href=\"http://espn.go.com/nba/player/_/id/2490149/c.j.-mccollum\">C.J. McCollum</a>, SG</td><td align=\"left\">POR</td><td>7</td><td>34.3</td><td class=\"sortcell\">21.6</td><td>8.4-17.9</td><td>.472</td><td>2.6-6.1</td><td>.419</td><td>2.1-2.6</td><td>.833</td></tr><tr align=\"right\" class=\"oddrow player-46-1975\"><td align=\"left\">17</td><td align=\"left\"><a href=\"http://espn.go.com/nba/player/_/id/1975/carmelo-anthony\">Carmelo Anthony</a>, SF</td><td align=\"left\">NY</td><td>7</td><td>34.0</td><td class=\"sortcell\">21.4</td><td>7.0-18.9</td><td>.371</td><td>1.6-4.9</td><td>.324</td><td>5.9-6.4</td><td>.911</td></tr><tr align=\"right\" class=\"evenrow player-46-3978\"><td align=\"left\"> </td><td align=\"left\"><a href=\"http://espn.go.com/nba/player/_/id/3978/demar-derozan\">DeMar DeRozan</a>, SG</td><td align=\"left\">TOR</td><td>7</td><td>36.0</td><td class=\"sortcell\">21.4</td><td>6.3-15.0</td><td>.419</td><td>0.3-1.6</td><td>.182</td><td>8.6-10.4</td><td>.822</td></tr><tr align=\"right\" class=\"oddrow player-46-3448\"><td align=\"left\">19</td><td align=\"left\"><a href=\"http://espn.go.com/nba/player/_/id/3448/brook-lopez\">Brook Lopez</a>, C</td><td align=\"left\">BKN</td><td>7</td><td>33.1</td><td class=\"sortcell\">20.4</td><td>7.7-14.4</td><td>.535</td><td>0.0-0.3</td><td>.000</td><td>5.0-6.0</td><td>.833</td></tr><tr align=\"right\" class=\"evenrow player-46-6585\"><td align=\"left\">20</td><td align=\"left\"><a href=\"http://espn.go.com/nba/player/_/id/6585/andre-drummond\">Andre Drummond</a>, C</td><td align=\"left\">DET</td><td>6</td><td>38.0</td><td class=\"sortcell\">20.3</td><td>8.3-15.2</td><td>.549</td><td>0.0-0.0</td><td>.000</td><td>3.7-8.7</td><td>.423</td></tr><tr align=\"right\" class=\"colhead\"><td align=\"left\" style=\"width:20px;\">RK</td><td align=\"left\">PLAYER</td><td align=\"left\">TEAM</td><td><a href=\"http://espn.go.com/nba/statistics/player/_/stat/scoring-per-game/sort/gamesPlayed/qualified/false\" title=\"Games Played\">GP</a></td><td><a href=\"http://espn.go.com/nba/statistics/player/_/stat/scoring-per-game/sort/avgMinutes/qualified/false\" title=\"Minutes Per Game\">MPG</a></td><td><a href=\"http://espn.go.com/nba/statistics/player/_/stat/scoring-per-game/sort/avgPoints/qualified/false/order/false\" title=\"Points Per Game\">PTS</a></td><td><span title=\"Field Goals Made-Attempted Per Game\">FGM-FGA</span></td><td><a href=\"http://espn.go.com/nba/statistics/player/_/stat/scoring-per-game/sort/fieldGoalPct/qualified/false\" title=\"Field Goal Percentage\">FG%</a></td><td><span title=\"3-Point Field Goals Made-Attempted Per Game\">3PM-3PA</span></td><td><a href=\"http://espn.go.com/nba/statistics/player/_/stat/scoring-per-game/sort/threePointFieldGoalPct/qualified/false\" title=\"3-Point Field Goal Percentage\">3P%</a></td><td><span title=\"Free Throws Made-Attempted Per Game\">FTM-FTA</span></td><td><a href=\"http://espn.go.com/nba/statistics/player/_/stat/scoring-per-game/sort/freeThrowPct/qualified/false\" title=\"Free Throws Percentage\">FT%</a></td></tr><tr align=\"right\" class=\"oddrow player-46-6430\"><td align=\"left\">21</td><td align=\"left\"><a href=\"http://espn.go.com/nba/player/_/id/6430/jimmy-butler\">Jimmy Butler</a>, SG</td><td align=\"left\">CHI</td><td>7</td><td>36.7</td><td class=\"sortcell\">20.1</td><td>6.6-15.0</td><td>.438</td><td>1.7-4.0</td><td>.429</td><td>5.3-6.7</td><td>.787</td></tr><tr align=\"right\" class=\"evenrow player-46-3135048\"><td align=\"left\">22</td><td align=\"left\"><a href=\"http://espn.go.com/nba/player/_/id/3135048/jahlil-okafor\">Jahlil Okafor</a>, C</td><td align=\"left\">PHI</td><td>6</td><td>34.3</td><td class=\"sortcell\">19.7</td><td>8.2-15.5</td><td>.527</td><td>0.0-0.0</td><td>.000</td><td>3.3-4.8</td><td>.690</td></tr><tr align=\"right\" class=\"oddrow player-46-3032977\"><td align=\"left\">23</td><td align=\"left\"><a href=\"http://espn.go.com/nba/player/_/id/3032977/giannis-antetokounmpo\">Giannis Antetokounmpo</a>, SF</td><td align=\"left\">MIL</td><td>6</td><td>37.0</td><td class=\"sortcell\">19.3</td><td>7.2-12.5</td><td>.573</td><td>0.8-1.8</td><td>.455</td><td>4.2-4.8</td><td>.862</td></tr><tr align=\"right\" class=\"evenrow player-46-4237\"><td align=\"left\">24</td><td align=\"left\"><a href=\"http://espn.go.com/nba/player/_/id/4237/john-wall\">John Wall</a>, PG</td><td align=\"left\">WSH</td><td>6</td><td>34.8</td><td class=\"sortcell\">19.2</td><td>6.5-15.7</td><td>.415</td><td>1.3-4.7</td><td>.286</td><td>4.8-6.3</td><td>.763</td></tr><tr align=\"right\" class=\"oddrow player-46-1987\"><td align=\"left\">25</td><td align=\"left\"><a href=\"http://espn.go.com/nba/player/_/id/1987/dwyane-wade\">Dwyane Wade</a>, SG</td><td align=\"left\">MIA</td><td>7</td><td>29.3</td><td class=\"sortcell\">18.9</td><td>6.9-15.6</td><td>.440</td><td>0.9-2.1</td><td>.400</td><td>4.3-5.3</td><td>.811</td></tr><tr align=\"right\" class=\"evenrow player-46-2394\"><td align=\"left\">26</td><td align=\"left\"><a href=\"http://espn.go.com/nba/player/_/id/2394/kevin-martin\">Kevin Martin</a>, SG</td><td align=\"left\">MIN</td><td>4</td><td>28.0</td><td class=\"sortcell\">18.8</td><td>5.3-11.5</td><td>.457</td><td>0.8-3.3</td><td>.231</td><td>7.5-8.8</td><td>.857</td></tr><tr align=\"right\" class=\"oddrow player-46-6588\"><td align=\"left\">27</td><td align=\"left\"><a href=\"http://espn.go.com/nba/player/_/id/6588/evan-fournier\">Evan Fournier</a>, SF</td><td align=\"left\">ORL</td><td>7</td><td>37.6</td><td class=\"sortcell\">18.7</td><td>7.1-15.3</td><td>.467</td><td>2.1-5.7</td><td>.375</td><td>2.3-3.0</td><td>.762</td></tr><tr align=\"right\" class=\"evenrow player-46-3428\"><td align=\"left\"> </td><td align=\"left\"><a href=\"http://espn.go.com/nba/player/_/id/3428/danilo-gallinari\">Danilo Gallinari</a>, SF</td><td align=\"left\">DEN</td><td>6</td><td>33.7</td><td class=\"sortcell\">18.7</td><td>5.5-13.0</td><td>.423</td><td>1.2-3.2</td><td>.368</td><td>6.5-7.3</td><td>.886</td></tr><tr align=\"right\" class=\"oddrow player-46-3012\"><td align=\"left\">29</td><td align=\"left\"><a href=\"http://espn.go.com/nba/player/_/id/3012/kyle-lowry\">Kyle Lowry</a>, PG</td><td align=\"left\">TOR</td><td>7</td><td>34.6</td><td class=\"sortcell\">18.3</td><td>5.7-14.1</td><td>.404</td><td>2.1-5.4</td><td>.395</td><td>4.7-5.7</td><td>.825</td></tr><tr align=\"right\" class=\"evenrow player-46-4260\"><td align=\"left\">30</td><td align=\"left\"><a href=\"http://espn.go.com/nba/player/_/id/4260/greg-monroe\">Greg Monroe</a>, C</td><td align=\"left\">MIL</td><td>7</td><td>33.0</td><td class=\"sortcell\">18.1</td><td>7.1-13.4</td><td>.532</td><td>0.0-0.0</td><td>.000</td><td>3.9-4.7</td><td>.818</td></tr><tr align=\"right\" class=\"colhead\"><td align=\"left\" style=\"width:20px;\">RK</td><td align=\"left\">PLAYER</td><td align=\"left\">TEAM</td><td><a href=\"http://espn.go.com/nba/statistics/player/_/stat/scoring-per-game/sort/gamesPlayed/qualified/false\" title=\"Games Played\">GP</a></td><td><a href=\"http://espn.go.com/nba/statistics/player/_/stat/scoring-per-game/sort/avgMinutes/qualified/false\" title=\"Minutes Per Game\">MPG</a></td><td><a href=\"http://espn.go.com/nba/statistics/player/_/stat/scoring-per-game/sort/avgPoints/qualified/false/order/false\" title=\"Points Per Game\">PTS</a></td><td><span title=\"Field Goals Made-Attempted Per Game\">FGM-FGA</span></td><td><a href=\"http://espn.go.com/nba/statistics/player/_/stat/scoring-per-game/sort/fieldGoalPct/qualified/false\" title=\"Field Goal Percentage\">FG%</a></td><td><span title=\"3-Point Field Goals Made-Attempted Per Game\">3PM-3PA</span></td><td><a href=\"http://espn.go.com/nba/statistics/player/_/stat/scoring-per-game/sort/threePointFieldGoalPct/qualified/false\" title=\"3-Point Field Goal Percentage\">3P%</a></td><td><span title=\"Free Throws Made-Attempted Per Game\">FTM-FTA</span></td><td><a href=\"http://espn.go.com/nba/statistics/player/_/stat/scoring-per-game/sort/freeThrowPct/qualified/false\" title=\"Free Throws Percentage\">FT%</a></td></tr><tr align=\"right\" class=\"oddrow player-46-4015\"><td align=\"left\">31</td><td align=\"left\"><a href=\"http://espn.go.com/nba/player/_/id/4015/jeff-teague\">Jeff Teague</a>, PG</td><td align=\"left\">ATL</td><td>8</td><td>31.1</td><td class=\"sortcell\">18.0</td><td>6.0-14.5</td><td>.414</td><td>1.0-3.1</td><td>.320</td><td>5.0-5.9</td><td>.851</td></tr><tr align=\"right\" class=\"evenrow player-46-6448\"><td align=\"left\">32</td><td align=\"left\"><a href=\"http://espn.go.com/nba/player/_/id/6448/brandon-knight\">Brandon Knight</a>, PG</td><td align=\"left\">PHX</td><td>7</td><td>35.1</td><td class=\"sortcell\">17.9</td><td>6.9-16.4</td><td>.417</td><td>2.3-6.7</td><td>.340</td><td>1.9-2.1</td><td>.867</td></tr><tr align=\"right\" class=\"oddrow player-46-3431\"><td align=\"left\">33</td><td align=\"left\"><a href=\"http://espn.go.com/nba/player/_/id/3431/eric-gordon\">Eric Gordon</a>, SG</td><td align=\"left\">NO</td><td>6</td><td>36.2</td><td class=\"sortcell\">17.8</td><td>6.2-15.0</td><td>.411</td><td>3.0-7.8</td><td>.383</td><td>2.5-3.0</td><td>.833</td></tr><tr align=\"right\" class=\"evenrow player-46-3059319\"><td align=\"left\">34</td><td align=\"left\"><a href=\"http://espn.go.com/nba/player/_/id/3059319/andrew-wiggins\">Andrew Wiggins</a>, SG</td><td align=\"left\">MIN</td><td>5</td><td>31.2</td><td class=\"sortcell\">17.2</td><td>5.6-17.0</td><td>.329</td><td>1.0-2.8</td><td>.357</td><td>5.0-7.0</td><td>.714</td></tr><tr align=\"right\" class=\"oddrow player-46-6479\"><td align=\"left\"> </td><td align=\"left\"><a href=\"http://espn.go.com/nba/player/_/id/6479/kemba-walker\">Kemba Walker</a>, PG</td><td align=\"left\">CHA</td><td>6</td><td>31.0</td><td class=\"sortcell\">17.2</td><td>5.8-13.0</td><td>.449</td><td>1.3-3.5</td><td>.381</td><td>4.2-4.8</td><td>.862</td></tr><tr align=\"right\" class=\"evenrow player-46-3005\"><td align=\"left\">36</td><td align=\"left\"><a href=\"http://espn.go.com/nba/player/_/id/3005/rudy-gay\">Rudy Gay</a>, SF</td><td align=\"left\">SAC</td><td>7</td><td>30.9</td><td class=\"sortcell\">17.1</td><td>7.0-17.3</td><td>.405</td><td>1.1-3.1</td><td>.364</td><td>2.0-2.7</td><td>.737</td></tr><tr align=\"right\" class=\"oddrow player-46-3213\"><td align=\"left\">37</td><td align=\"left\"><a href=\"http://espn.go.com/nba/player/_/id/3213/al-horford\">Al Horford</a>, PF</td><td align=\"left\">ATL</td><td>8</td><td>31.6</td><td class=\"sortcell\">17.0</td><td>7.3-14.1</td><td>.513</td><td>0.8-3.1</td><td>.240</td><td>1.8-2.0</td><td>.875</td></tr><tr align=\"right\" class=\"evenrow player-46-3449\"><td align=\"left\"> </td><td align=\"left\"><a href=\"http://espn.go.com/nba/player/_/id/3449/kevin-love\">Kevin Love</a>, PF</td><td align=\"left\">CLE</td><td>7</td><td>33.0</td><td class=\"sortcell\">17.0</td><td>6.3-15.3</td><td>.411</td><td>2.0-6.7</td><td>.298</td><td>2.4-2.6</td><td>.944</td></tr><tr align=\"right\" class=\"oddrow player-46-609\"><td align=\"left\"> </td><td align=\"left\"><a href=\"http://espn.go.com/nba/player/_/id/609/dirk-nowitzki\">Dirk Nowitzki</a>, PF</td><td align=\"left\">DAL</td><td>6</td><td>28.0</td><td class=\"sortcell\">17.0</td><td>6.5-12.7</td><td>.513</td><td>1.7-3.3</td><td>.500</td><td>2.3-2.5</td><td>.933</td></tr><tr align=\"right\" class=\"evenrow player-46-6462\"><td align=\"left\"> </td><td align=\"left\"><a href=\"http://espn.go.com/nba/player/_/id/6462/marcus-morris\">Marcus Morris</a>, PF</td><td align=\"left\">DET</td><td>6</td><td>38.2</td><td class=\"sortcell\">17.0</td><td>6.0-14.5</td><td>.414</td><td>1.3-4.0</td><td>.333</td><td>3.7-5.0</td><td>.733</td></tr>\n",
      "</table>\n"
     ]
    }
   ],
   "source": [
    "table = table_div.find(\"table\")\n",
    "print table"
   ]
  },
  {
   "cell_type": "markdown",
   "metadata": {},
   "source": [
    "### Searching by Attributes\n",
    "\n",
    "Now that we have the table object, we need to step through the rows.  First we'll find the header row so we can populate what the field names will be in our data.  Here we're searching for tags under the table tag whose class attritbute is \"colhead\".  "
   ]
  },
  {
   "cell_type": "code",
   "execution_count": 38,
   "metadata": {
    "collapsed": false
   },
   "outputs": [
    {
     "name": "stdout",
     "output_type": "stream",
     "text": [
      "<tr align=\"right\" class=\"colhead\">\n",
      " <td align=\"left\" style=\"width:20px;\">\n",
      "  RK\n",
      " </td>\n",
      " <td align=\"left\">\n",
      "  PLAYER\n",
      " </td>\n",
      " <td align=\"left\">\n",
      "  TEAM\n",
      " </td>\n",
      " <td>\n",
      "  <a href=\"http://espn.go.com/nba/statistics/player/_/stat/scoring-per-game/sort/gamesPlayed/qualified/false\" title=\"Games Played\">\n",
      "   GP\n",
      "  </a>\n",
      " </td>\n",
      " <td>\n",
      "  <a href=\"http://espn.go.com/nba/statistics/player/_/stat/scoring-per-game/sort/avgMinutes/qualified/false\" title=\"Minutes Per Game\">\n",
      "   MPG\n",
      "  </a>\n",
      " </td>\n",
      " <td>\n",
      "  <a href=\"http://espn.go.com/nba/statistics/player/_/stat/scoring-per-game/sort/avgPoints/qualified/false/order/false\" title=\"Points Per Game\">\n",
      "   PTS\n",
      "  </a>\n",
      " </td>\n",
      " <td>\n",
      "  <span title=\"Field Goals Made-Attempted Per Game\">\n",
      "   FGM-FGA\n",
      "  </span>\n",
      " </td>\n",
      " <td>\n",
      "  <a href=\"http://espn.go.com/nba/statistics/player/_/stat/scoring-per-game/sort/fieldGoalPct/qualified/false\" title=\"Field Goal Percentage\">\n",
      "   FG%\n",
      "  </a>\n",
      " </td>\n",
      " <td>\n",
      "  <span title=\"3-Point Field Goals Made-Attempted Per Game\">\n",
      "   3PM-3PA\n",
      "  </span>\n",
      " </td>\n",
      " <td>\n",
      "  <a href=\"http://espn.go.com/nba/statistics/player/_/stat/scoring-per-game/sort/threePointFieldGoalPct/qualified/false\" title=\"3-Point Field Goal Percentage\">\n",
      "   3P%\n",
      "  </a>\n",
      " </td>\n",
      " <td>\n",
      "  <span title=\"Free Throws Made-Attempted Per Game\">\n",
      "   FTM-FTA\n",
      "  </span>\n",
      " </td>\n",
      " <td>\n",
      "  <a href=\"http://espn.go.com/nba/statistics/player/_/stat/scoring-per-game/sort/freeThrowPct/qualified/false\" title=\"Free Throws Percentage\">\n",
      "   FT%\n",
      "  </a>\n",
      " </td>\n",
      "</tr>\n",
      "\n"
     ]
    }
   ],
   "source": [
    "table_head = table.find(attrs={\"class\":'colhead'})\n",
    "\n",
    "print table_head.prettify()"
   ]
  },
  {
   "cell_type": "markdown",
   "metadata": {},
   "source": [
    "Now we find the actual values by searching for the 'td' tags, which is the tag for table data."
   ]
  },
  {
   "cell_type": "code",
   "execution_count": 39,
   "metadata": {
    "collapsed": false
   },
   "outputs": [
    {
     "name": "stdout",
     "output_type": "stream",
     "text": [
      "[<td align=\"left\" style=\"width:20px;\">RK</td>, <td align=\"left\">PLAYER</td>, <td align=\"left\">TEAM</td>, <td><a href=\"http://espn.go.com/nba/statistics/player/_/stat/scoring-per-game/sort/gamesPlayed/qualified/false\" title=\"Games Played\">GP</a></td>, <td><a href=\"http://espn.go.com/nba/statistics/player/_/stat/scoring-per-game/sort/avgMinutes/qualified/false\" title=\"Minutes Per Game\">MPG</a></td>, <td><a href=\"http://espn.go.com/nba/statistics/player/_/stat/scoring-per-game/sort/avgPoints/qualified/false/order/false\" title=\"Points Per Game\">PTS</a></td>, <td><span title=\"Field Goals Made-Attempted Per Game\">FGM-FGA</span></td>, <td><a href=\"http://espn.go.com/nba/statistics/player/_/stat/scoring-per-game/sort/fieldGoalPct/qualified/false\" title=\"Field Goal Percentage\">FG%</a></td>, <td><span title=\"3-Point Field Goals Made-Attempted Per Game\">3PM-3PA</span></td>, <td><a href=\"http://espn.go.com/nba/statistics/player/_/stat/scoring-per-game/sort/threePointFieldGoalPct/qualified/false\" title=\"3-Point Field Goal Percentage\">3P%</a></td>, <td><span title=\"Free Throws Made-Attempted Per Game\">FTM-FTA</span></td>, <td><a href=\"http://espn.go.com/nba/statistics/player/_/stat/scoring-per-game/sort/freeThrowPct/qualified/false\" title=\"Free Throws Percentage\">FT%</a></td>]\n"
     ]
    }
   ],
   "source": [
    "header_cols = table_head.findAll('td')\n",
    "print header_cols"
   ]
  },
  {
   "cell_type": "markdown",
   "metadata": {},
   "source": [
    "Finally, we step through these columns and save them to a list to be used later.  We'll ignore the rank column (RK) because that doesn't give us anything we want later.  We also separate the **PLAYER** column into **PLAYER** and **POSITION**."
   ]
  },
  {
   "cell_type": "code",
   "execution_count": 40,
   "metadata": {
    "collapsed": false
   },
   "outputs": [
    {
     "name": "stdout",
     "output_type": "stream",
     "text": [
      "RK\n",
      "PLAYER\n",
      "TEAM\n",
      "GP\n",
      "MPG\n",
      "PTS\n",
      "FGM-FGA\n",
      "FG%\n",
      "3PM-3PA\n",
      "3P%\n",
      "FTM-FTA\n",
      "FT%\n",
      "[u'PLAYER', 'POSITION', u'TEAM', u'GP', u'MPG', u'PTS', u'FGM-FGA', u'FG%', u'3PM-3PA', u'3P%', u'FTM-FTA', u'FT%']\n"
     ]
    }
   ],
   "source": [
    "cols = []\n",
    "for header_col in header_cols:\n",
    "    val = header_col.string\n",
    "    print val\n",
    "    if val != 'RK':\n",
    "        cols.append(val)\n",
    "    if val == 'PLAYER':\n",
    "        cols.append('POSITION')\n",
    "print cols"
   ]
  },
  {
   "cell_type": "markdown",
   "metadata": {},
   "source": [
    "### Stepping Through a Table\n",
    "\n",
    "The table rows are indicated by the tag 'tr'.  Again we can find them all and iterate through them.  Within each row we iterate through the respective columns."
   ]
  },
  {
   "cell_type": "code",
   "execution_count": 41,
   "metadata": {
    "collapsed": false
   },
   "outputs": [],
   "source": [
    "table_rows = table.findAll('tr')\n",
    "# print table_rows"
   ]
  },
  {
   "cell_type": "markdown",
   "metadata": {},
   "source": [
    "We will save our results in 2 different ways to demonstrate how we can handle both.  The first will be a list of dicts where the key is the field name and the value is the field value.  The second will just be a list of lists of stats with no field name values (we've already defined them earlier)."
   ]
  },
  {
   "cell_type": "code",
   "execution_count": 42,
   "metadata": {
    "collapsed": false
   },
   "outputs": [],
   "source": [
    "players_stats_dicts = []\n",
    "players_stats_array = []\n",
    "for row in table_rows:\n",
    "#     print row\n",
    "    if row.attrs['class'][0]=='colhead':\n",
    "        continue\n",
    "    player_stats = []\n",
    "    row_cols = row.find_all('td')\n",
    "    col_vals = []\n",
    "    player_col = row_cols[1]\n",
    "    player_name = player_col.find('a').string\n",
    "    player_position = player_col.contents[1]\n",
    "    player_position = player_position.split(' ')[1]\n",
    "    player_stats.append(player_name)\n",
    "    player_stats.append(player_position)\n",
    "    for i in range(2, len(row_cols)):\n",
    "        stat = row_cols[i].string\n",
    "        player_stats.append(stat)\n",
    "    players_stats_array.append(player_stats)\n",
    "    player_stats = dict(zip(cols, player_stats))\n",
    "    players_stats_dicts.append(player_stats)\n",
    "# print players_stats_dicts[0:5]        \n",
    "# print players_stats_array[0]        \n"
   ]
  },
  {
   "cell_type": "markdown",
   "metadata": {},
   "source": [
    "Here we've used the zip function to combine pairs of lists into tuples, and then transformed that into a dict to get a dictionary of FIELD --> VALUE for every player in the table.\n",
    "\n",
    "Beautiful Soup has many other features, including the ability to step up, down, and sideways in the HTML tree and basically search for any tags, attributes, or values.  For more, take a look at the [Documentation](http://www.crummy.com/software/BeautifulSoup/bs4/doc/)"
   ]
  },
  {
   "cell_type": "markdown",
   "metadata": {},
   "source": [
    "## Load into Pandas\n",
    "\n",
    "Let's load our scraped data into Pandas and take a look at it.  Here is the first way we can do it, simply directly from the dictionary we defined."
   ]
  },
  {
   "cell_type": "code",
   "execution_count": 43,
   "metadata": {
    "collapsed": false
   },
   "outputs": [
    {
     "data": {
      "text/html": [
       "<div>\n",
       "<table border=\"1\" class=\"dataframe\">\n",
       "  <thead>\n",
       "    <tr style=\"text-align: right;\">\n",
       "      <th></th>\n",
       "      <th>3P%</th>\n",
       "      <th>3PM-3PA</th>\n",
       "      <th>FG%</th>\n",
       "      <th>FGM-FGA</th>\n",
       "      <th>FT%</th>\n",
       "      <th>FTM-FTA</th>\n",
       "      <th>GP</th>\n",
       "      <th>MPG</th>\n",
       "      <th>PLAYER</th>\n",
       "      <th>POSITION</th>\n",
       "      <th>PTS</th>\n",
       "      <th>TEAM</th>\n",
       "    </tr>\n",
       "  </thead>\n",
       "  <tbody>\n",
       "    <tr>\n",
       "      <th>0</th>\n",
       "      <td>.475</td>\n",
       "      <td>5.4-11.4</td>\n",
       "      <td>.553</td>\n",
       "      <td>11.1-20.1</td>\n",
       "      <td>.915</td>\n",
       "      <td>6.1-6.7</td>\n",
       "      <td>7</td>\n",
       "      <td>33.3</td>\n",
       "      <td>Stephen Curry</td>\n",
       "      <td>PG</td>\n",
       "      <td>33.9</td>\n",
       "      <td>GS</td>\n",
       "    </tr>\n",
       "    <tr>\n",
       "      <th>1</th>\n",
       "      <td>.422</td>\n",
       "      <td>2.7-6.4</td>\n",
       "      <td>.503</td>\n",
       "      <td>10.4-20.7</td>\n",
       "      <td>.885</td>\n",
       "      <td>6.6-7.4</td>\n",
       "      <td>7</td>\n",
       "      <td>37.3</td>\n",
       "      <td>Kevin Durant</td>\n",
       "      <td>SF</td>\n",
       "      <td>30.1</td>\n",
       "      <td>OKC</td>\n",
       "    </tr>\n",
       "    <tr>\n",
       "      <th>2</th>\n",
       "      <td>.240</td>\n",
       "      <td>2.6-10.7</td>\n",
       "      <td>.377</td>\n",
       "      <td>8.1-21.6</td>\n",
       "      <td>.854</td>\n",
       "      <td>10.9-12.7</td>\n",
       "      <td>7</td>\n",
       "      <td>39.4</td>\n",
       "      <td>James Harden</td>\n",
       "      <td>SG</td>\n",
       "      <td>29.7</td>\n",
       "      <td>HOU</td>\n",
       "    </tr>\n",
       "    <tr>\n",
       "      <th>3</th>\n",
       "      <td>.000</td>\n",
       "      <td>0.0-0.5</td>\n",
       "      <td>.598</td>\n",
       "      <td>11.7-19.5</td>\n",
       "      <td>.783</td>\n",
       "      <td>6.0-7.7</td>\n",
       "      <td>6</td>\n",
       "      <td>35.2</td>\n",
       "      <td>Blake Griffin</td>\n",
       "      <td>PF</td>\n",
       "      <td>29.3</td>\n",
       "      <td>LAC</td>\n",
       "    </tr>\n",
       "    <tr>\n",
       "      <th>4</th>\n",
       "      <td>.429</td>\n",
       "      <td>3.9-9.0</td>\n",
       "      <td>.476</td>\n",
       "      <td>9.7-20.4</td>\n",
       "      <td>.871</td>\n",
       "      <td>3.9-4.4</td>\n",
       "      <td>7</td>\n",
       "      <td>36.4</td>\n",
       "      <td>Damian Lillard</td>\n",
       "      <td>PG</td>\n",
       "      <td>27.1</td>\n",
       "      <td>POR</td>\n",
       "    </tr>\n",
       "  </tbody>\n",
       "</table>\n",
       "</div>"
      ],
      "text/plain": [
       "    3P%   3PM-3PA   FG%    FGM-FGA   FT%    FTM-FTA GP   MPG          PLAYER  \\\n",
       "0  .475  5.4-11.4  .553  11.1-20.1  .915    6.1-6.7  7  33.3   Stephen Curry   \n",
       "1  .422   2.7-6.4  .503  10.4-20.7  .885    6.6-7.4  7  37.3    Kevin Durant   \n",
       "2  .240  2.6-10.7  .377   8.1-21.6  .854  10.9-12.7  7  39.4    James Harden   \n",
       "3  .000   0.0-0.5  .598  11.7-19.5  .783    6.0-7.7  6  35.2   Blake Griffin   \n",
       "4  .429   3.9-9.0  .476   9.7-20.4  .871    3.9-4.4  7  36.4  Damian Lillard   \n",
       "\n",
       "  POSITION   PTS TEAM  \n",
       "0       PG  33.9   GS  \n",
       "1       SF  30.1  OKC  \n",
       "2       SG  29.7  HOU  \n",
       "3       PF  29.3  LAC  \n",
       "4       PG  27.1  POR  "
      ]
     },
     "execution_count": 43,
     "metadata": {},
     "output_type": "execute_result"
    }
   ],
   "source": [
    "import pandas as pd\n",
    "import numpy as np\n",
    "\n",
    "df = pd.DataFrame.from_dict(players_stats_dicts)\n",
    "df.head()"
   ]
  },
  {
   "cell_type": "markdown",
   "metadata": {},
   "source": [
    "Now here is a 2nd way we can do it.  We convert the 2D stats array into a numpy array and create a Pandas dataframe from it along with the list of column headers we defined earlier."
   ]
  },
  {
   "cell_type": "code",
   "execution_count": 44,
   "metadata": {
    "collapsed": false
   },
   "outputs": [
    {
     "data": {
      "text/html": [
       "<div>\n",
       "<table border=\"1\" class=\"dataframe\">\n",
       "  <thead>\n",
       "    <tr style=\"text-align: right;\">\n",
       "      <th></th>\n",
       "      <th>PLAYER</th>\n",
       "      <th>POSITION</th>\n",
       "      <th>TEAM</th>\n",
       "      <th>GP</th>\n",
       "      <th>MPG</th>\n",
       "      <th>PTS</th>\n",
       "      <th>FGM-FGA</th>\n",
       "      <th>FG%</th>\n",
       "      <th>3PM-3PA</th>\n",
       "      <th>3P%</th>\n",
       "      <th>FTM-FTA</th>\n",
       "      <th>FT%</th>\n",
       "    </tr>\n",
       "  </thead>\n",
       "  <tbody>\n",
       "    <tr>\n",
       "      <th>0</th>\n",
       "      <td>Stephen Curry</td>\n",
       "      <td>PG</td>\n",
       "      <td>GS</td>\n",
       "      <td>7</td>\n",
       "      <td>33.3</td>\n",
       "      <td>33.9</td>\n",
       "      <td>11.1-20.1</td>\n",
       "      <td>.553</td>\n",
       "      <td>5.4-11.4</td>\n",
       "      <td>.475</td>\n",
       "      <td>6.1-6.7</td>\n",
       "      <td>.915</td>\n",
       "    </tr>\n",
       "    <tr>\n",
       "      <th>1</th>\n",
       "      <td>Kevin Durant</td>\n",
       "      <td>SF</td>\n",
       "      <td>OKC</td>\n",
       "      <td>7</td>\n",
       "      <td>37.3</td>\n",
       "      <td>30.1</td>\n",
       "      <td>10.4-20.7</td>\n",
       "      <td>.503</td>\n",
       "      <td>2.7-6.4</td>\n",
       "      <td>.422</td>\n",
       "      <td>6.6-7.4</td>\n",
       "      <td>.885</td>\n",
       "    </tr>\n",
       "    <tr>\n",
       "      <th>2</th>\n",
       "      <td>James Harden</td>\n",
       "      <td>SG</td>\n",
       "      <td>HOU</td>\n",
       "      <td>7</td>\n",
       "      <td>39.4</td>\n",
       "      <td>29.7</td>\n",
       "      <td>8.1-21.6</td>\n",
       "      <td>.377</td>\n",
       "      <td>2.6-10.7</td>\n",
       "      <td>.240</td>\n",
       "      <td>10.9-12.7</td>\n",
       "      <td>.854</td>\n",
       "    </tr>\n",
       "    <tr>\n",
       "      <th>3</th>\n",
       "      <td>Blake Griffin</td>\n",
       "      <td>PF</td>\n",
       "      <td>LAC</td>\n",
       "      <td>6</td>\n",
       "      <td>35.2</td>\n",
       "      <td>29.3</td>\n",
       "      <td>11.7-19.5</td>\n",
       "      <td>.598</td>\n",
       "      <td>0.0-0.5</td>\n",
       "      <td>.000</td>\n",
       "      <td>6.0-7.7</td>\n",
       "      <td>.783</td>\n",
       "    </tr>\n",
       "    <tr>\n",
       "      <th>4</th>\n",
       "      <td>Damian Lillard</td>\n",
       "      <td>PG</td>\n",
       "      <td>POR</td>\n",
       "      <td>7</td>\n",
       "      <td>36.4</td>\n",
       "      <td>27.1</td>\n",
       "      <td>9.7-20.4</td>\n",
       "      <td>.476</td>\n",
       "      <td>3.9-9.0</td>\n",
       "      <td>.429</td>\n",
       "      <td>3.9-4.4</td>\n",
       "      <td>.871</td>\n",
       "    </tr>\n",
       "  </tbody>\n",
       "</table>\n",
       "</div>"
      ],
      "text/plain": [
       "           PLAYER POSITION TEAM GP   MPG   PTS    FGM-FGA   FG%   3PM-3PA  \\\n",
       "0   Stephen Curry       PG   GS  7  33.3  33.9  11.1-20.1  .553  5.4-11.4   \n",
       "1    Kevin Durant       SF  OKC  7  37.3  30.1  10.4-20.7  .503   2.7-6.4   \n",
       "2    James Harden       SG  HOU  7  39.4  29.7   8.1-21.6  .377  2.6-10.7   \n",
       "3   Blake Griffin       PF  LAC  6  35.2  29.3  11.7-19.5  .598   0.0-0.5   \n",
       "4  Damian Lillard       PG  POR  7  36.4  27.1   9.7-20.4  .476   3.9-9.0   \n",
       "\n",
       "    3P%    FTM-FTA   FT%  \n",
       "0  .475    6.1-6.7  .915  \n",
       "1  .422    6.6-7.4  .885  \n",
       "2  .240  10.9-12.7  .854  \n",
       "3  .000    6.0-7.7  .783  \n",
       "4  .429    3.9-4.4  .871  "
      ]
     },
     "execution_count": 44,
     "metadata": {},
     "output_type": "execute_result"
    }
   ],
   "source": [
    "np_array = np.array(players_stats_array)\n",
    "df = pd.DataFrame(np_array, columns=cols)\n",
    "df.head()\n"
   ]
  },
  {
   "cell_type": "markdown",
   "metadata": {},
   "source": [
    "## Exercise\n",
    "\n",
    "The goal of this exercise is to combine the scoring and assists statistics for every player in the NBA in 2014-2015.  The end result will have them in a pandas dataframe with the fields from both pages for every player.\n",
    "\n",
    "The general steps should be as follows:\n",
    "- Create a function get_cols that retrieves the names of the header columns given a table element (skip the ranks, split the positions)\n",
    "- Create a function get_data that retrieves the actual table data given a table element (skip the ranks, split the positions).  You can use either the dict approach or the numpy array approach.\n",
    "- Write a python loop to loop through the various pages and call these functions on the appropriate urls so that you can retrieve every player (rather than just the top few).\n",
    "- Repeat the above on both the scoring and assists URLs to get a pandas dataframe for both of them\n",
    "- Use the pandas.DataFrame.join() function to join your 2 pandas dataframes together and get a total result"
   ]
  },
  {
   "cell_type": "markdown",
   "metadata": {},
   "source": [
    "## Tasks"
   ]
  },
  {
   "cell_type": "markdown",
   "metadata": {
    "collapsed": false
   },
   "source": [
    "Create a function get_cols that retrieves the names of the header columns given a table element (skip the ranks, split the positions)"
   ]
  },
  {
   "cell_type": "code",
   "execution_count": 45,
   "metadata": {
    "collapsed": false
   },
   "outputs": [
    {
     "name": "stdout",
     "output_type": "stream",
     "text": [
      "[u'PLAYER', 'POSITION', u'TEAM', u'GP', u'MPG', u'PTS', u'FGM-FGA', u'FG%', u'3PM-3PA', u'3P%', u'FTM-FTA', u'FT%']\n"
     ]
    }
   ],
   "source": [
    "def get_cols(table):\n",
    "    cols = []\n",
    "    table_head = table.find(attrs={\"class\":'colhead'})\n",
    "    for header_col in table_head:\n",
    "        val = header_col.string\n",
    "        if val != 'RK':\n",
    "            cols.append(val)\n",
    "        if val == 'PLAYER':\n",
    "            cols.append('POSITION')\n",
    "    return cols\n",
    "\n",
    " \n",
    "print get_cols(table)"
   ]
  },
  {
   "cell_type": "markdown",
   "metadata": {
    "collapsed": true
   },
   "source": [
    "Create a function get_data that retrieves the actual table data given a table element (skip the ranks, split the positions).  You can use either the dict approach or the numpy array approach.\n"
   ]
  },
  {
   "cell_type": "code",
   "execution_count": 46,
   "metadata": {
    "collapsed": false
   },
   "outputs": [
    {
     "name": "stdout",
     "output_type": "stream",
     "text": [
      "[{u'FGM-FGA': u'11.1-20.1', u'MPG': u'33.3', u'FTM-FTA': u'6.1-6.7', u'FG%': u'.553', u'GP': u'7', u'PLAYER': u'Stephen Curry', u'FT%': u'.915', u'TEAM': u'GS', u'3PM-3PA': u'5.4-11.4', 'POSITION': u'PG', u'PTS': u'33.9', u'3P%': u'.475'}, {u'FGM-FGA': u'10.4-20.7', u'MPG': u'37.3', u'FTM-FTA': u'6.6-7.4', u'FG%': u'.503', u'GP': u'7', u'PLAYER': u'Kevin Durant', u'FT%': u'.885', u'TEAM': u'OKC', u'3PM-3PA': u'2.7-6.4', 'POSITION': u'SF', u'PTS': u'30.1', u'3P%': u'.422'}, {u'FGM-FGA': u'8.1-21.6', u'MPG': u'39.4', u'FTM-FTA': u'10.9-12.7', u'FG%': u'.377', u'GP': u'7', u'PLAYER': u'James Harden', u'FT%': u'.854', u'TEAM': u'HOU', u'3PM-3PA': u'2.6-10.7', 'POSITION': u'SG', u'PTS': u'29.7', u'3P%': u'.240'}, {u'FGM-FGA': u'11.7-19.5', u'MPG': u'35.2', u'FTM-FTA': u'6.0-7.7', u'FG%': u'.598', u'GP': u'6', u'PLAYER': u'Blake Griffin', u'FT%': u'.783', u'TEAM': u'LAC', u'3PM-3PA': u'0.0-0.5', 'POSITION': u'PF', u'PTS': u'29.3', u'3P%': u'.000'}, {u'FGM-FGA': u'9.7-20.4', u'MPG': u'36.4', u'FTM-FTA': u'3.9-4.4', u'FG%': u'.476', u'GP': u'7', u'PLAYER': u'Damian Lillard', u'FT%': u'.871', u'TEAM': u'POR', u'3PM-3PA': u'3.9-9.0', 'POSITION': u'PG', u'PTS': u'27.1', u'3P%': u'.429'}, {u'FGM-FGA': u'10.0-21.0', u'MPG': u'35.7', u'FTM-FTA': u'4.7-5.6', u'FG%': u'.476', u'GP': u'7', u'PLAYER': u'Russell Westbrook', u'FT%': u'.846', u'TEAM': u'OKC', u'3PM-3PA': u'1.6-5.0', 'POSITION': u'PG', u'PTS': u'26.3', u'3P%': u'.314'}, {u'FGM-FGA': u'8.3-18.0', u'MPG': u'38.2', u'FTM-FTA': u'7.7-10.2', u'FG%': u'.463', u'GP': u'6', u'PLAYER': u'Anthony Davis', u'FT%': u'.754', u'TEAM': u'NO', u'3PM-3PA': u'0.8-2.3', 'POSITION': u'PF', u'PTS': u'25.2', u'3P%': u'.357'}, {u'FGM-FGA': u'9.9-20.1', u'MPG': u'34.4', u'FTM-FTA': u'4.0-6.7', u'FG%': u'.489', u'GP': u'7', u'PLAYER': u'LeBron James', u'FT%': u'.596', u'TEAM': u'CLE', u'3PM-3PA': u'0.7-3.7', 'POSITION': u'SF', u'PTS': u'24.4', u'3P%': u'.192'}, {u'FGM-FGA': u'8.5-18.7', u'MPG': u'33.2', u'FTM-FTA': u'4.5-5.7', u'FG%': u'.455', u'GP': u'6', u'PLAYER': u'Reggie Jackson', u'FT%': u'.794', u'TEAM': u'DET', u'3PM-3PA': u'1.7-3.7', 'POSITION': u'PG', u'PTS': u'23.2', u'3P%': u'.455'}, {u'FGM-FGA': u'7.6-18.0', u'MPG': u'35.7', u'FTM-FTA': u'5.9-6.9', u'FG%': u'.421', u'GP': u'7', u'PLAYER': u'Paul George', u'FT%': u'.854', u'TEAM': u'IND', u'3PM-3PA': u'2.0-6.1', 'POSITION': u'SF', u'PTS': u'23.0', u'3P%': u'.326'}, {u'FGM-FGA': u'8.7-17.8', u'MPG': u'34.7', u'FTM-FTA': u'2.7-3.3', u'FG%': u'.486', u'GP': u'6', u'PLAYER': u'Bradley Beal', u'FT%': u'.800', u'TEAM': u'WSH', u'3PM-3PA': u'2.7-5.7', 'POSITION': u'SG', u'PTS': u'22.7', u'3P%': u'.471'}, {u'FGM-FGA': u'7.0-17.4', u'MPG': u'29.2', u'FTM-FTA': u'6.4-7.0', u'FG%': u'.402', u'GP': u'5', u'PLAYER': u'Isaiah Thomas', u'FT%': u'.914', u'TEAM': u'BOS', u'3PM-3PA': u'1.6-5.0', 'POSITION': u'PG', u'PTS': u'22.0', u'3P%': u'.320'}, {u'FGM-FGA': u'7.0-16.7', u'MPG': u'26.0', u'FTM-FTA': u'6.7-9.0', u'FG%': u'.420', u'GP': u'3', u'PLAYER': u'DeMarcus Cousins', u'FT%': u'.741', u'TEAM': u'SAC', u'3PM-3PA': u'1.3-3.3', 'POSITION': u'PF', u'PTS': u'22.0', u'3P%': u'.400'}, {u'FGM-FGA': u'7.9-17.4', u'MPG': u'34.4', u'FTM-FTA': u'4.9-6.3', u'FG%': u'.451', u'GP': u'7', u'PLAYER': u'Eric Bledsoe', u'FT%': u'.773', u'TEAM': u'PHX', u'3PM-3PA': u'1.3-3.7', 'POSITION': u'PG', u'PTS': u'21.9', u'3P%': u'.346'}, {u'FGM-FGA': u'9.2-18.3', u'MPG': u'33.3', u'FTM-FTA': u'2.5-2.7', u'FG%': u'.500', u'GP': u'6', u'PLAYER': u'Kawhi Leonard', u'FT%': u'.938', u'TEAM': u'SA', u'3PM-3PA': u'1.0-3.3', 'POSITION': u'SF', u'PTS': u'21.8', u'3P%': u'.300'}, {u'FGM-FGA': u'8.4-17.9', u'MPG': u'34.3', u'FTM-FTA': u'2.1-2.6', u'FG%': u'.472', u'GP': u'7', u'PLAYER': u'C.J. McCollum', u'FT%': u'.833', u'TEAM': u'POR', u'3PM-3PA': u'2.6-6.1', 'POSITION': u'SG', u'PTS': u'21.6', u'3P%': u'.419'}, {u'FGM-FGA': u'7.0-18.9', u'MPG': u'34.0', u'FTM-FTA': u'5.9-6.4', u'FG%': u'.371', u'GP': u'7', u'PLAYER': u'Carmelo Anthony', u'FT%': u'.911', u'TEAM': u'NY', u'3PM-3PA': u'1.6-4.9', 'POSITION': u'SF', u'PTS': u'21.4', u'3P%': u'.324'}, {u'FGM-FGA': u'6.3-15.0', u'MPG': u'36.0', u'FTM-FTA': u'8.6-10.4', u'FG%': u'.419', u'GP': u'7', u'PLAYER': u'DeMar DeRozan', u'FT%': u'.822', u'TEAM': u'TOR', u'3PM-3PA': u'0.3-1.6', 'POSITION': u'SG', u'PTS': u'21.4', u'3P%': u'.182'}, {u'FGM-FGA': u'7.7-14.4', u'MPG': u'33.1', u'FTM-FTA': u'5.0-6.0', u'FG%': u'.535', u'GP': u'7', u'PLAYER': u'Brook Lopez', u'FT%': u'.833', u'TEAM': u'BKN', u'3PM-3PA': u'0.0-0.3', 'POSITION': u'C', u'PTS': u'20.4', u'3P%': u'.000'}, {u'FGM-FGA': u'8.3-15.2', u'MPG': u'38.0', u'FTM-FTA': u'3.7-8.7', u'FG%': u'.549', u'GP': u'6', u'PLAYER': u'Andre Drummond', u'FT%': u'.423', u'TEAM': u'DET', u'3PM-3PA': u'0.0-0.0', 'POSITION': u'C', u'PTS': u'20.3', u'3P%': u'.000'}, {u'FGM-FGA': u'6.6-15.0', u'MPG': u'36.7', u'FTM-FTA': u'5.3-6.7', u'FG%': u'.438', u'GP': u'7', u'PLAYER': u'Jimmy Butler', u'FT%': u'.787', u'TEAM': u'CHI', u'3PM-3PA': u'1.7-4.0', 'POSITION': u'SG', u'PTS': u'20.1', u'3P%': u'.429'}, {u'FGM-FGA': u'8.2-15.5', u'MPG': u'34.3', u'FTM-FTA': u'3.3-4.8', u'FG%': u'.527', u'GP': u'6', u'PLAYER': u'Jahlil Okafor', u'FT%': u'.690', u'TEAM': u'PHI', u'3PM-3PA': u'0.0-0.0', 'POSITION': u'C', u'PTS': u'19.7', u'3P%': u'.000'}, {u'FGM-FGA': u'7.2-12.5', u'MPG': u'37.0', u'FTM-FTA': u'4.2-4.8', u'FG%': u'.573', u'GP': u'6', u'PLAYER': u'Giannis Antetokounmpo', u'FT%': u'.862', u'TEAM': u'MIL', u'3PM-3PA': u'0.8-1.8', 'POSITION': u'SF', u'PTS': u'19.3', u'3P%': u'.455'}, {u'FGM-FGA': u'6.5-15.7', u'MPG': u'34.8', u'FTM-FTA': u'4.8-6.3', u'FG%': u'.415', u'GP': u'6', u'PLAYER': u'John Wall', u'FT%': u'.763', u'TEAM': u'WSH', u'3PM-3PA': u'1.3-4.7', 'POSITION': u'PG', u'PTS': u'19.2', u'3P%': u'.286'}, {u'FGM-FGA': u'6.9-15.6', u'MPG': u'29.3', u'FTM-FTA': u'4.3-5.3', u'FG%': u'.440', u'GP': u'7', u'PLAYER': u'Dwyane Wade', u'FT%': u'.811', u'TEAM': u'MIA', u'3PM-3PA': u'0.9-2.1', 'POSITION': u'SG', u'PTS': u'18.9', u'3P%': u'.400'}, {u'FGM-FGA': u'5.3-11.5', u'MPG': u'28.0', u'FTM-FTA': u'7.5-8.8', u'FG%': u'.457', u'GP': u'4', u'PLAYER': u'Kevin Martin', u'FT%': u'.857', u'TEAM': u'MIN', u'3PM-3PA': u'0.8-3.3', 'POSITION': u'SG', u'PTS': u'18.8', u'3P%': u'.231'}, {u'FGM-FGA': u'7.1-15.3', u'MPG': u'37.6', u'FTM-FTA': u'2.3-3.0', u'FG%': u'.467', u'GP': u'7', u'PLAYER': u'Evan Fournier', u'FT%': u'.762', u'TEAM': u'ORL', u'3PM-3PA': u'2.1-5.7', 'POSITION': u'SF', u'PTS': u'18.7', u'3P%': u'.375'}, {u'FGM-FGA': u'5.5-13.0', u'MPG': u'33.7', u'FTM-FTA': u'6.5-7.3', u'FG%': u'.423', u'GP': u'6', u'PLAYER': u'Danilo Gallinari', u'FT%': u'.886', u'TEAM': u'DEN', u'3PM-3PA': u'1.2-3.2', 'POSITION': u'SF', u'PTS': u'18.7', u'3P%': u'.368'}, {u'FGM-FGA': u'5.7-14.1', u'MPG': u'34.6', u'FTM-FTA': u'4.7-5.7', u'FG%': u'.404', u'GP': u'7', u'PLAYER': u'Kyle Lowry', u'FT%': u'.825', u'TEAM': u'TOR', u'3PM-3PA': u'2.1-5.4', 'POSITION': u'PG', u'PTS': u'18.3', u'3P%': u'.395'}, {u'FGM-FGA': u'7.1-13.4', u'MPG': u'33.0', u'FTM-FTA': u'3.9-4.7', u'FG%': u'.532', u'GP': u'7', u'PLAYER': u'Greg Monroe', u'FT%': u'.818', u'TEAM': u'MIL', u'3PM-3PA': u'0.0-0.0', 'POSITION': u'C', u'PTS': u'18.1', u'3P%': u'.000'}, {u'FGM-FGA': u'6.0-14.5', u'MPG': u'31.1', u'FTM-FTA': u'5.0-5.9', u'FG%': u'.414', u'GP': u'8', u'PLAYER': u'Jeff Teague', u'FT%': u'.851', u'TEAM': u'ATL', u'3PM-3PA': u'1.0-3.1', 'POSITION': u'PG', u'PTS': u'18.0', u'3P%': u'.320'}, {u'FGM-FGA': u'6.9-16.4', u'MPG': u'35.1', u'FTM-FTA': u'1.9-2.1', u'FG%': u'.417', u'GP': u'7', u'PLAYER': u'Brandon Knight', u'FT%': u'.867', u'TEAM': u'PHX', u'3PM-3PA': u'2.3-6.7', 'POSITION': u'PG', u'PTS': u'17.9', u'3P%': u'.340'}, {u'FGM-FGA': u'6.2-15.0', u'MPG': u'36.2', u'FTM-FTA': u'2.5-3.0', u'FG%': u'.411', u'GP': u'6', u'PLAYER': u'Eric Gordon', u'FT%': u'.833', u'TEAM': u'NO', u'3PM-3PA': u'3.0-7.8', 'POSITION': u'SG', u'PTS': u'17.8', u'3P%': u'.383'}, {u'FGM-FGA': u'5.6-17.0', u'MPG': u'31.2', u'FTM-FTA': u'5.0-7.0', u'FG%': u'.329', u'GP': u'5', u'PLAYER': u'Andrew Wiggins', u'FT%': u'.714', u'TEAM': u'MIN', u'3PM-3PA': u'1.0-2.8', 'POSITION': u'SG', u'PTS': u'17.2', u'3P%': u'.357'}, {u'FGM-FGA': u'5.8-13.0', u'MPG': u'31.0', u'FTM-FTA': u'4.2-4.8', u'FG%': u'.449', u'GP': u'6', u'PLAYER': u'Kemba Walker', u'FT%': u'.862', u'TEAM': u'CHA', u'3PM-3PA': u'1.3-3.5', 'POSITION': u'PG', u'PTS': u'17.2', u'3P%': u'.381'}, {u'FGM-FGA': u'7.0-17.3', u'MPG': u'30.9', u'FTM-FTA': u'2.0-2.7', u'FG%': u'.405', u'GP': u'7', u'PLAYER': u'Rudy Gay', u'FT%': u'.737', u'TEAM': u'SAC', u'3PM-3PA': u'1.1-3.1', 'POSITION': u'SF', u'PTS': u'17.1', u'3P%': u'.364'}, {u'FGM-FGA': u'7.3-14.1', u'MPG': u'31.6', u'FTM-FTA': u'1.8-2.0', u'FG%': u'.513', u'GP': u'8', u'PLAYER': u'Al Horford', u'FT%': u'.875', u'TEAM': u'ATL', u'3PM-3PA': u'0.8-3.1', 'POSITION': u'PF', u'PTS': u'17.0', u'3P%': u'.240'}, {u'FGM-FGA': u'6.3-15.3', u'MPG': u'33.0', u'FTM-FTA': u'2.4-2.6', u'FG%': u'.411', u'GP': u'7', u'PLAYER': u'Kevin Love', u'FT%': u'.944', u'TEAM': u'CLE', u'3PM-3PA': u'2.0-6.7', 'POSITION': u'PF', u'PTS': u'17.0', u'3P%': u'.298'}, {u'FGM-FGA': u'6.5-12.7', u'MPG': u'28.0', u'FTM-FTA': u'2.3-2.5', u'FG%': u'.513', u'GP': u'6', u'PLAYER': u'Dirk Nowitzki', u'FT%': u'.933', u'TEAM': u'DAL', u'3PM-3PA': u'1.7-3.3', 'POSITION': u'PF', u'PTS': u'17.0', u'3P%': u'.500'}, {u'FGM-FGA': u'6.0-14.5', u'MPG': u'38.2', u'FTM-FTA': u'3.7-5.0', u'FG%': u'.414', u'GP': u'6', u'PLAYER': u'Marcus Morris', u'FT%': u'.733', u'TEAM': u'DET', u'3PM-3PA': u'1.3-4.0', 'POSITION': u'PF', u'PTS': u'17.0', u'3P%': u'.333'}]\n"
     ]
    }
   ],
   "source": [
    "def get_data(table):\n",
    "    table_rows = table.findAll('tr')\n",
    "    players_stats_array = []\n",
    "    for row in table_rows:\n",
    "        if row.attrs['class'][0]=='colhead':\n",
    "            continue\n",
    "        player_stats = []\n",
    "        row_cols = row.find_all('td')\n",
    "\n",
    "        col_vals = []\n",
    "        player_col = row_cols[1]\n",
    "        player_name = player_col.find('a').string\n",
    "        player_position = player_col.contents[1]\n",
    "        player_position = player_position.split(' ')[1]\n",
    "        player_stats.append(player_name)\n",
    "        player_stats.append(player_position)\n",
    "        for i in range(2, len(row_cols)):\n",
    "            stat = row_cols[i].string\n",
    "            player_stats.append(stat)\n",
    "        players_stats_array.append(player_stats)\n",
    "\n",
    "    return players_stats_array\n",
    "    \n",
    "def merge_columns_to_rows(columns, rows):\n",
    "    players_stats_dicts = []\n",
    "    for player_stats in rows:\n",
    "        player_stats = dict(zip(columns, player_stats))\n",
    "        players_stats_dicts.append(player_stats)\n",
    "    return players_stats_dicts\n",
    "\n",
    "rows = get_data(table)\n",
    "columns = get_cols(table)\n",
    "print merge_columns_to_rows(columns, rows)\n"
   ]
  },
  {
   "cell_type": "markdown",
   "metadata": {
    "collapsed": true
   },
   "source": [
    "- Write a python loop to loop through the various pages and call these functions on the appropriate urls so that you can retrieve every player (rather than just the top few).\n"
   ]
  },
  {
   "cell_type": "code",
   "execution_count": 47,
   "metadata": {
    "collapsed": false
   },
   "outputs": [
    {
     "data": {
      "text/html": [
       "<div>\n",
       "<table border=\"1\" class=\"dataframe\">\n",
       "  <thead>\n",
       "    <tr style=\"text-align: right;\">\n",
       "      <th></th>\n",
       "      <th>3P%</th>\n",
       "      <th>3PM-3PA</th>\n",
       "      <th>FG%</th>\n",
       "      <th>FGM-FGA</th>\n",
       "      <th>FT%</th>\n",
       "      <th>FTM-FTA</th>\n",
       "      <th>GP</th>\n",
       "      <th>MPG</th>\n",
       "      <th>PLAYER</th>\n",
       "      <th>POSITION</th>\n",
       "      <th>PTS</th>\n",
       "      <th>TEAM</th>\n",
       "    </tr>\n",
       "  </thead>\n",
       "  <tbody>\n",
       "    <tr>\n",
       "      <th>0</th>\n",
       "      <td>.475</td>\n",
       "      <td>5.4-11.4</td>\n",
       "      <td>.553</td>\n",
       "      <td>11.1-20.1</td>\n",
       "      <td>.915</td>\n",
       "      <td>6.1-6.7</td>\n",
       "      <td>7</td>\n",
       "      <td>33.3</td>\n",
       "      <td>Stephen Curry</td>\n",
       "      <td>PG</td>\n",
       "      <td>33.9</td>\n",
       "      <td>GS</td>\n",
       "    </tr>\n",
       "    <tr>\n",
       "      <th>1</th>\n",
       "      <td>.422</td>\n",
       "      <td>2.7-6.4</td>\n",
       "      <td>.503</td>\n",
       "      <td>10.4-20.7</td>\n",
       "      <td>.885</td>\n",
       "      <td>6.6-7.4</td>\n",
       "      <td>7</td>\n",
       "      <td>37.3</td>\n",
       "      <td>Kevin Durant</td>\n",
       "      <td>SF</td>\n",
       "      <td>30.1</td>\n",
       "      <td>OKC</td>\n",
       "    </tr>\n",
       "    <tr>\n",
       "      <th>2</th>\n",
       "      <td>.240</td>\n",
       "      <td>2.6-10.7</td>\n",
       "      <td>.377</td>\n",
       "      <td>8.1-21.6</td>\n",
       "      <td>.854</td>\n",
       "      <td>10.9-12.7</td>\n",
       "      <td>7</td>\n",
       "      <td>39.4</td>\n",
       "      <td>James Harden</td>\n",
       "      <td>SG</td>\n",
       "      <td>29.7</td>\n",
       "      <td>HOU</td>\n",
       "    </tr>\n",
       "    <tr>\n",
       "      <th>3</th>\n",
       "      <td>.000</td>\n",
       "      <td>0.0-0.5</td>\n",
       "      <td>.598</td>\n",
       "      <td>11.7-19.5</td>\n",
       "      <td>.783</td>\n",
       "      <td>6.0-7.7</td>\n",
       "      <td>6</td>\n",
       "      <td>35.2</td>\n",
       "      <td>Blake Griffin</td>\n",
       "      <td>PF</td>\n",
       "      <td>29.3</td>\n",
       "      <td>LAC</td>\n",
       "    </tr>\n",
       "    <tr>\n",
       "      <th>4</th>\n",
       "      <td>.429</td>\n",
       "      <td>3.9-9.0</td>\n",
       "      <td>.476</td>\n",
       "      <td>9.7-20.4</td>\n",
       "      <td>.871</td>\n",
       "      <td>3.9-4.4</td>\n",
       "      <td>7</td>\n",
       "      <td>36.4</td>\n",
       "      <td>Damian Lillard</td>\n",
       "      <td>PG</td>\n",
       "      <td>27.1</td>\n",
       "      <td>POR</td>\n",
       "    </tr>\n",
       "  </tbody>\n",
       "</table>\n",
       "</div>"
      ],
      "text/plain": [
       "    3P%   3PM-3PA   FG%    FGM-FGA   FT%    FTM-FTA GP   MPG          PLAYER  \\\n",
       "0  .475  5.4-11.4  .553  11.1-20.1  .915    6.1-6.7  7  33.3   Stephen Curry   \n",
       "1  .422   2.7-6.4  .503  10.4-20.7  .885    6.6-7.4  7  37.3    Kevin Durant   \n",
       "2  .240  2.6-10.7  .377   8.1-21.6  .854  10.9-12.7  7  39.4    James Harden   \n",
       "3  .000   0.0-0.5  .598  11.7-19.5  .783    6.0-7.7  6  35.2   Blake Griffin   \n",
       "4  .429   3.9-9.0  .476   9.7-20.4  .871    3.9-4.4  7  36.4  Damian Lillard   \n",
       "\n",
       "  POSITION   PTS TEAM  \n",
       "0       PG  33.9   GS  \n",
       "1       SF  30.1  OKC  \n",
       "2       SG  29.7  HOU  \n",
       "3       PF  29.3  LAC  \n",
       "4       PG  27.1  POR  "
      ]
     },
     "execution_count": 47,
     "metadata": {},
     "output_type": "execute_result"
    }
   ],
   "source": [
    "base_url = 'http://espn.go.com/nba/statistics/player/_/stat/scoring-per-game/sort/avgPoints/qualified/false/count/'\n",
    "\n",
    "def all_pages(base_url):\n",
    "    counter = 1\n",
    "    results = []\n",
    "    pages_cols = get_cols(get_nba_stats_table(base_url))\n",
    "    \n",
    "    while True:\n",
    "        current_page = base_url + str(counter)\n",
    "        page_rows = get_data(get_nba_stats_table(current_page))\n",
    "        data = merge_columns_to_rows(pages_cols, page_rows)\n",
    "        if data == []:\n",
    "            break\n",
    "        results = results + data\n",
    "        counter += 40\n",
    "    return results\n",
    "    \n",
    "def get_nba_stats_table(url):\n",
    "    page = urllib2.urlopen(url).read()\n",
    "    soup = BeautifulSoup(page)\n",
    "    table_div = soup.find(id='my-players-table')\n",
    "    table = table_div.find(\"table\")\n",
    "    return table\n",
    "\n",
    "def build_dataframe(url):\n",
    "    data = all_pages(url)\n",
    "    return pd.DataFrame.from_dict(data)\n",
    "\n",
    "r = build_dataframe(base_url)\n",
    "r.head()\n"
   ]
  },
  {
   "cell_type": "markdown",
   "metadata": {
    "collapsed": true
   },
   "source": [
    "## - Repeat the above on both the scoring and assists URLs to get a pandas dataframe for both of them"
   ]
  },
  {
   "cell_type": "code",
   "execution_count": 61,
   "metadata": {
    "collapsed": false,
    "scrolled": true
   },
   "outputs": [
    {
     "data": {
      "text/html": [
       "<div>\n",
       "<table border=\"1\" class=\"dataframe\">\n",
       "  <thead>\n",
       "    <tr style=\"text-align: right;\">\n",
       "      <th></th>\n",
       "      <th>3P%</th>\n",
       "      <th>3PM-3PA</th>\n",
       "      <th>FG%</th>\n",
       "      <th>FGM-FGA</th>\n",
       "      <th>FT%</th>\n",
       "      <th>FTM-FTA</th>\n",
       "      <th>GP</th>\n",
       "      <th>MPG</th>\n",
       "      <th>PLAYER</th>\n",
       "      <th>POSITION</th>\n",
       "      <th>PTS</th>\n",
       "      <th>TEAM</th>\n",
       "    </tr>\n",
       "  </thead>\n",
       "  <tbody>\n",
       "    <tr>\n",
       "      <th>0</th>\n",
       "      <td>.475</td>\n",
       "      <td>38-80</td>\n",
       "      <td>.553</td>\n",
       "      <td>78-141</td>\n",
       "      <td>.915</td>\n",
       "      <td>43-47</td>\n",
       "      <td>7</td>\n",
       "      <td>33.3</td>\n",
       "      <td>Stephen Curry</td>\n",
       "      <td>PG</td>\n",
       "      <td>237</td>\n",
       "      <td>GS</td>\n",
       "    </tr>\n",
       "    <tr>\n",
       "      <th>1</th>\n",
       "      <td>.422</td>\n",
       "      <td>19-45</td>\n",
       "      <td>.503</td>\n",
       "      <td>73-145</td>\n",
       "      <td>.885</td>\n",
       "      <td>46-52</td>\n",
       "      <td>7</td>\n",
       "      <td>37.3</td>\n",
       "      <td>Kevin Durant</td>\n",
       "      <td>SF</td>\n",
       "      <td>211</td>\n",
       "      <td>OKC</td>\n",
       "    </tr>\n",
       "    <tr>\n",
       "      <th>2</th>\n",
       "      <td>.240</td>\n",
       "      <td>18-75</td>\n",
       "      <td>.377</td>\n",
       "      <td>57-151</td>\n",
       "      <td>.854</td>\n",
       "      <td>76-89</td>\n",
       "      <td>7</td>\n",
       "      <td>39.4</td>\n",
       "      <td>James Harden</td>\n",
       "      <td>SG</td>\n",
       "      <td>208</td>\n",
       "      <td>HOU</td>\n",
       "    </tr>\n",
       "    <tr>\n",
       "      <th>3</th>\n",
       "      <td>.429</td>\n",
       "      <td>27-63</td>\n",
       "      <td>.476</td>\n",
       "      <td>68-143</td>\n",
       "      <td>.871</td>\n",
       "      <td>27-31</td>\n",
       "      <td>7</td>\n",
       "      <td>36.4</td>\n",
       "      <td>Damian Lillard</td>\n",
       "      <td>PG</td>\n",
       "      <td>190</td>\n",
       "      <td>POR</td>\n",
       "    </tr>\n",
       "    <tr>\n",
       "      <th>4</th>\n",
       "      <td>.314</td>\n",
       "      <td>11-35</td>\n",
       "      <td>.476</td>\n",
       "      <td>70-147</td>\n",
       "      <td>.846</td>\n",
       "      <td>33-39</td>\n",
       "      <td>7</td>\n",
       "      <td>35.7</td>\n",
       "      <td>Russell Westbrook</td>\n",
       "      <td>PG</td>\n",
       "      <td>184</td>\n",
       "      <td>OKC</td>\n",
       "    </tr>\n",
       "  </tbody>\n",
       "</table>\n",
       "</div>"
      ],
      "text/plain": [
       "    3P% 3PM-3PA   FG% FGM-FGA   FT% FTM-FTA GP   MPG             PLAYER  \\\n",
       "0  .475   38-80  .553  78-141  .915   43-47  7  33.3      Stephen Curry   \n",
       "1  .422   19-45  .503  73-145  .885   46-52  7  37.3       Kevin Durant   \n",
       "2  .240   18-75  .377  57-151  .854   76-89  7  39.4       James Harden   \n",
       "3  .429   27-63  .476  68-143  .871   27-31  7  36.4     Damian Lillard   \n",
       "4  .314   11-35  .476  70-147  .846   33-39  7  35.7  Russell Westbrook   \n",
       "\n",
       "  POSITION  PTS TEAM  \n",
       "0       PG  237   GS  \n",
       "1       SF  211  OKC  \n",
       "2       SG  208  HOU  \n",
       "3       PG  190  POR  \n",
       "4       PG  184  OKC  "
      ]
     },
     "execution_count": 61,
     "metadata": {},
     "output_type": "execute_result"
    }
   ],
   "source": [
    "scoring_url = \"http://espn.go.com/nba/statistics/player/_/stat/scoring/qualified/false/count/\"\n",
    "\n",
    "score = build_dataframe(scoring_url)\n",
    "score.head()\n"
   ]
  },
  {
   "cell_type": "code",
   "execution_count": 60,
   "metadata": {
    "collapsed": false
   },
   "outputs": [
    {
     "data": {
      "text/html": [
       "<div>\n",
       "<table border=\"1\" class=\"dataframe\">\n",
       "  <thead>\n",
       "    <tr style=\"text-align: right;\">\n",
       "      <th></th>\n",
       "      <th>AP48M</th>\n",
       "      <th>APG</th>\n",
       "      <th>AST</th>\n",
       "      <th>AST/TO</th>\n",
       "      <th>GP</th>\n",
       "      <th>MPG</th>\n",
       "      <th>PLAYER</th>\n",
       "      <th>POSITION</th>\n",
       "      <th>TEAM</th>\n",
       "      <th>TO</th>\n",
       "      <th>TOPG</th>\n",
       "    </tr>\n",
       "  </thead>\n",
       "  <tbody>\n",
       "    <tr>\n",
       "      <th>0</th>\n",
       "      <td>14.6</td>\n",
       "      <td>10.9</td>\n",
       "      <td>76</td>\n",
       "      <td>2.24</td>\n",
       "      <td>7</td>\n",
       "      <td>35.7</td>\n",
       "      <td>Russell Westbrook</td>\n",
       "      <td>PG</td>\n",
       "      <td>OKC</td>\n",
       "      <td>34</td>\n",
       "      <td>4.9</td>\n",
       "    </tr>\n",
       "    <tr>\n",
       "      <th>1</th>\n",
       "      <td>14.0</td>\n",
       "      <td>9.2</td>\n",
       "      <td>46</td>\n",
       "      <td>4.60</td>\n",
       "      <td>5</td>\n",
       "      <td>31.6</td>\n",
       "      <td>Ricky Rubio</td>\n",
       "      <td>PG</td>\n",
       "      <td>MIN</td>\n",
       "      <td>10</td>\n",
       "      <td>2.0</td>\n",
       "    </tr>\n",
       "    <tr>\n",
       "      <th>2</th>\n",
       "      <td>12.2</td>\n",
       "      <td>8.8</td>\n",
       "      <td>53</td>\n",
       "      <td>1.77</td>\n",
       "      <td>6</td>\n",
       "      <td>34.8</td>\n",
       "      <td>John Wall</td>\n",
       "      <td>PG</td>\n",
       "      <td>WSH</td>\n",
       "      <td>30</td>\n",
       "      <td>5.0</td>\n",
       "    </tr>\n",
       "    <tr>\n",
       "      <th>3</th>\n",
       "      <td>12.2</td>\n",
       "      <td>8.2</td>\n",
       "      <td>41</td>\n",
       "      <td>2.93</td>\n",
       "      <td>5</td>\n",
       "      <td>32.2</td>\n",
       "      <td>Chris Paul</td>\n",
       "      <td>PG</td>\n",
       "      <td>LAC</td>\n",
       "      <td>14</td>\n",
       "      <td>2.8</td>\n",
       "    </tr>\n",
       "    <tr>\n",
       "      <th>4</th>\n",
       "      <td>13.4</td>\n",
       "      <td>7.5</td>\n",
       "      <td>45</td>\n",
       "      <td>4.09</td>\n",
       "      <td>6</td>\n",
       "      <td>26.8</td>\n",
       "      <td>Ish Smith</td>\n",
       "      <td>PG</td>\n",
       "      <td>NO</td>\n",
       "      <td>11</td>\n",
       "      <td>1.8</td>\n",
       "    </tr>\n",
       "  </tbody>\n",
       "</table>\n",
       "</div>"
      ],
      "text/plain": [
       "  AP48M   APG AST AST/TO GP   MPG             PLAYER POSITION TEAM  TO TOPG\n",
       "0  14.6  10.9  76   2.24  7  35.7  Russell Westbrook       PG  OKC  34  4.9\n",
       "1  14.0   9.2  46   4.60  5  31.6        Ricky Rubio       PG  MIN  10  2.0\n",
       "2  12.2   8.8  53   1.77  6  34.8          John Wall       PG  WSH  30  5.0\n",
       "3  12.2   8.2  41   2.93  5  32.2         Chris Paul       PG  LAC  14  2.8\n",
       "4  13.4   7.5  45   4.09  6  26.8          Ish Smith       PG   NO  11  1.8"
      ]
     },
     "execution_count": 60,
     "metadata": {},
     "output_type": "execute_result"
    }
   ],
   "source": [
    "assists_url = \"http://espn.go.com/nba/statistics/player/_/stat/assists/qualified/false/count/\"\n",
    "ass = build_dataframe(assists_url)\n",
    "ass.head()"
   ]
  },
  {
   "cell_type": "markdown",
   "metadata": {
    "collapsed": true
   },
   "source": [
    "- Use the pandas.DataFrame.join() function to join your 2 pandas dataframes together and get a total result\n"
   ]
  },
  {
   "cell_type": "code",
   "execution_count": 86,
   "metadata": {
    "collapsed": false
   },
   "outputs": [
    {
     "ename": "KeyError",
     "evalue": "'player'",
     "output_type": "error",
     "traceback": [
      "\u001b[0;31m---------------------------------------------------------------------------\u001b[0m",
      "\u001b[0;31mKeyError\u001b[0m                                  Traceback (most recent call last)",
      "\u001b[0;32m<ipython-input-86-61561d7da199>\u001b[0m in \u001b[0;36m<module>\u001b[0;34m()\u001b[0m\n\u001b[0;32m----> 1\u001b[0;31m \u001b[0mass\u001b[0m\u001b[0;34m.\u001b[0m\u001b[0mset_index\u001b[0m\u001b[0;34m(\u001b[0m\u001b[0;34m[\u001b[0m\u001b[0;34m'player'\u001b[0m\u001b[0;34m]\u001b[0m\u001b[0;34m)\u001b[0m\u001b[0;34m\u001b[0m\u001b[0m\n\u001b[0m\u001b[1;32m      2\u001b[0m \u001b[0mcomplete\u001b[0m \u001b[0;34m=\u001b[0m \u001b[0mass\u001b[0m\u001b[0;34m.\u001b[0m\u001b[0mjoin\u001b[0m\u001b[0;34m(\u001b[0m\u001b[0mscore\u001b[0m\u001b[0;34m,\u001b[0m\u001b[0mrsuffix\u001b[0m\u001b[0;34m=\u001b[0m\u001b[0;34m'_r'\u001b[0m\u001b[0;34m,\u001b[0m \u001b[0mhow\u001b[0m \u001b[0;34m=\u001b[0m \u001b[0;34m'right'\u001b[0m\u001b[0;34m)\u001b[0m\u001b[0;34m\u001b[0m\u001b[0m\n\u001b[1;32m      3\u001b[0m \u001b[0mcomplete\u001b[0m\u001b[0;34m.\u001b[0m\u001b[0mhead\u001b[0m\u001b[0;34m(\u001b[0m\u001b[0;34m)\u001b[0m\u001b[0;34m\u001b[0m\u001b[0m\n",
      "\u001b[0;32m/Users/keith/miniconda/lib/python2.7/site-packages/pandas/core/frame.pyc\u001b[0m in \u001b[0;36mset_index\u001b[0;34m(self, keys, drop, append, inplace, verify_integrity)\u001b[0m\n\u001b[1;32m   2723\u001b[0m                 \u001b[0mnames\u001b[0m\u001b[0;34m.\u001b[0m\u001b[0mappend\u001b[0m\u001b[0;34m(\u001b[0m\u001b[0mNone\u001b[0m\u001b[0;34m)\u001b[0m\u001b[0;34m\u001b[0m\u001b[0m\n\u001b[1;32m   2724\u001b[0m             \u001b[0;32melse\u001b[0m\u001b[0;34m:\u001b[0m\u001b[0;34m\u001b[0m\u001b[0m\n\u001b[0;32m-> 2725\u001b[0;31m                 \u001b[0mlevel\u001b[0m \u001b[0;34m=\u001b[0m \u001b[0mframe\u001b[0m\u001b[0;34m[\u001b[0m\u001b[0mcol\u001b[0m\u001b[0;34m]\u001b[0m\u001b[0;34m.\u001b[0m\u001b[0m_values\u001b[0m\u001b[0;34m\u001b[0m\u001b[0m\n\u001b[0m\u001b[1;32m   2726\u001b[0m                 \u001b[0mnames\u001b[0m\u001b[0;34m.\u001b[0m\u001b[0mappend\u001b[0m\u001b[0;34m(\u001b[0m\u001b[0mcol\u001b[0m\u001b[0;34m)\u001b[0m\u001b[0;34m\u001b[0m\u001b[0m\n\u001b[1;32m   2727\u001b[0m                 \u001b[0;32mif\u001b[0m \u001b[0mdrop\u001b[0m\u001b[0;34m:\u001b[0m\u001b[0;34m\u001b[0m\u001b[0m\n",
      "\u001b[0;32m/Users/keith/miniconda/lib/python2.7/site-packages/pandas/core/frame.pyc\u001b[0m in \u001b[0;36m__getitem__\u001b[0;34m(self, key)\u001b[0m\n\u001b[1;32m   1912\u001b[0m             \u001b[0;32mreturn\u001b[0m \u001b[0mself\u001b[0m\u001b[0;34m.\u001b[0m\u001b[0m_getitem_multilevel\u001b[0m\u001b[0;34m(\u001b[0m\u001b[0mkey\u001b[0m\u001b[0;34m)\u001b[0m\u001b[0;34m\u001b[0m\u001b[0m\n\u001b[1;32m   1913\u001b[0m         \u001b[0;32melse\u001b[0m\u001b[0;34m:\u001b[0m\u001b[0;34m\u001b[0m\u001b[0m\n\u001b[0;32m-> 1914\u001b[0;31m             \u001b[0;32mreturn\u001b[0m \u001b[0mself\u001b[0m\u001b[0;34m.\u001b[0m\u001b[0m_getitem_column\u001b[0m\u001b[0;34m(\u001b[0m\u001b[0mkey\u001b[0m\u001b[0;34m)\u001b[0m\u001b[0;34m\u001b[0m\u001b[0m\n\u001b[0m\u001b[1;32m   1915\u001b[0m \u001b[0;34m\u001b[0m\u001b[0m\n\u001b[1;32m   1916\u001b[0m     \u001b[0;32mdef\u001b[0m \u001b[0m_getitem_column\u001b[0m\u001b[0;34m(\u001b[0m\u001b[0mself\u001b[0m\u001b[0;34m,\u001b[0m \u001b[0mkey\u001b[0m\u001b[0;34m)\u001b[0m\u001b[0;34m:\u001b[0m\u001b[0;34m\u001b[0m\u001b[0m\n",
      "\u001b[0;32m/Users/keith/miniconda/lib/python2.7/site-packages/pandas/core/frame.pyc\u001b[0m in \u001b[0;36m_getitem_column\u001b[0;34m(self, key)\u001b[0m\n\u001b[1;32m   1919\u001b[0m         \u001b[0;31m# get column\u001b[0m\u001b[0;34m\u001b[0m\u001b[0;34m\u001b[0m\u001b[0m\n\u001b[1;32m   1920\u001b[0m         \u001b[0;32mif\u001b[0m \u001b[0mself\u001b[0m\u001b[0;34m.\u001b[0m\u001b[0mcolumns\u001b[0m\u001b[0;34m.\u001b[0m\u001b[0mis_unique\u001b[0m\u001b[0;34m:\u001b[0m\u001b[0;34m\u001b[0m\u001b[0m\n\u001b[0;32m-> 1921\u001b[0;31m             \u001b[0;32mreturn\u001b[0m \u001b[0mself\u001b[0m\u001b[0;34m.\u001b[0m\u001b[0m_get_item_cache\u001b[0m\u001b[0;34m(\u001b[0m\u001b[0mkey\u001b[0m\u001b[0;34m)\u001b[0m\u001b[0;34m\u001b[0m\u001b[0m\n\u001b[0m\u001b[1;32m   1922\u001b[0m \u001b[0;34m\u001b[0m\u001b[0m\n\u001b[1;32m   1923\u001b[0m         \u001b[0;31m# duplicate columns & possible reduce dimensionaility\u001b[0m\u001b[0;34m\u001b[0m\u001b[0;34m\u001b[0m\u001b[0m\n",
      "\u001b[0;32m/Users/keith/miniconda/lib/python2.7/site-packages/pandas/core/generic.pyc\u001b[0m in \u001b[0;36m_get_item_cache\u001b[0;34m(self, item)\u001b[0m\n\u001b[1;32m   1088\u001b[0m         \u001b[0mres\u001b[0m \u001b[0;34m=\u001b[0m \u001b[0mcache\u001b[0m\u001b[0;34m.\u001b[0m\u001b[0mget\u001b[0m\u001b[0;34m(\u001b[0m\u001b[0mitem\u001b[0m\u001b[0;34m)\u001b[0m\u001b[0;34m\u001b[0m\u001b[0m\n\u001b[1;32m   1089\u001b[0m         \u001b[0;32mif\u001b[0m \u001b[0mres\u001b[0m \u001b[0;32mis\u001b[0m \u001b[0mNone\u001b[0m\u001b[0;34m:\u001b[0m\u001b[0;34m\u001b[0m\u001b[0m\n\u001b[0;32m-> 1090\u001b[0;31m             \u001b[0mvalues\u001b[0m \u001b[0;34m=\u001b[0m \u001b[0mself\u001b[0m\u001b[0;34m.\u001b[0m\u001b[0m_data\u001b[0m\u001b[0;34m.\u001b[0m\u001b[0mget\u001b[0m\u001b[0;34m(\u001b[0m\u001b[0mitem\u001b[0m\u001b[0;34m)\u001b[0m\u001b[0;34m\u001b[0m\u001b[0m\n\u001b[0m\u001b[1;32m   1091\u001b[0m             \u001b[0mres\u001b[0m \u001b[0;34m=\u001b[0m \u001b[0mself\u001b[0m\u001b[0;34m.\u001b[0m\u001b[0m_box_item_values\u001b[0m\u001b[0;34m(\u001b[0m\u001b[0mitem\u001b[0m\u001b[0;34m,\u001b[0m \u001b[0mvalues\u001b[0m\u001b[0;34m)\u001b[0m\u001b[0;34m\u001b[0m\u001b[0m\n\u001b[1;32m   1092\u001b[0m             \u001b[0mcache\u001b[0m\u001b[0;34m[\u001b[0m\u001b[0mitem\u001b[0m\u001b[0;34m]\u001b[0m \u001b[0;34m=\u001b[0m \u001b[0mres\u001b[0m\u001b[0;34m\u001b[0m\u001b[0m\n",
      "\u001b[0;32m/Users/keith/miniconda/lib/python2.7/site-packages/pandas/core/internals.pyc\u001b[0m in \u001b[0;36mget\u001b[0;34m(self, item, fastpath)\u001b[0m\n\u001b[1;32m   3100\u001b[0m \u001b[0;34m\u001b[0m\u001b[0m\n\u001b[1;32m   3101\u001b[0m             \u001b[0;32mif\u001b[0m \u001b[0;32mnot\u001b[0m \u001b[0misnull\u001b[0m\u001b[0;34m(\u001b[0m\u001b[0mitem\u001b[0m\u001b[0;34m)\u001b[0m\u001b[0;34m:\u001b[0m\u001b[0;34m\u001b[0m\u001b[0m\n\u001b[0;32m-> 3102\u001b[0;31m                 \u001b[0mloc\u001b[0m \u001b[0;34m=\u001b[0m \u001b[0mself\u001b[0m\u001b[0;34m.\u001b[0m\u001b[0mitems\u001b[0m\u001b[0;34m.\u001b[0m\u001b[0mget_loc\u001b[0m\u001b[0;34m(\u001b[0m\u001b[0mitem\u001b[0m\u001b[0;34m)\u001b[0m\u001b[0;34m\u001b[0m\u001b[0m\n\u001b[0m\u001b[1;32m   3103\u001b[0m             \u001b[0;32melse\u001b[0m\u001b[0;34m:\u001b[0m\u001b[0;34m\u001b[0m\u001b[0m\n\u001b[1;32m   3104\u001b[0m                 \u001b[0mindexer\u001b[0m \u001b[0;34m=\u001b[0m \u001b[0mnp\u001b[0m\u001b[0;34m.\u001b[0m\u001b[0marange\u001b[0m\u001b[0;34m(\u001b[0m\u001b[0mlen\u001b[0m\u001b[0;34m(\u001b[0m\u001b[0mself\u001b[0m\u001b[0;34m.\u001b[0m\u001b[0mitems\u001b[0m\u001b[0;34m)\u001b[0m\u001b[0;34m)\u001b[0m\u001b[0;34m[\u001b[0m\u001b[0misnull\u001b[0m\u001b[0;34m(\u001b[0m\u001b[0mself\u001b[0m\u001b[0;34m.\u001b[0m\u001b[0mitems\u001b[0m\u001b[0;34m)\u001b[0m\u001b[0;34m]\u001b[0m\u001b[0;34m\u001b[0m\u001b[0m\n",
      "\u001b[0;32m/Users/keith/miniconda/lib/python2.7/site-packages/pandas/core/index.pyc\u001b[0m in \u001b[0;36mget_loc\u001b[0;34m(self, key, method, tolerance)\u001b[0m\n\u001b[1;32m   1690\u001b[0m                 raise ValueError('tolerance argument only valid if using pad, '\n\u001b[1;32m   1691\u001b[0m                                  'backfill or nearest lookups')\n\u001b[0;32m-> 1692\u001b[0;31m             \u001b[0;32mreturn\u001b[0m \u001b[0mself\u001b[0m\u001b[0;34m.\u001b[0m\u001b[0m_engine\u001b[0m\u001b[0;34m.\u001b[0m\u001b[0mget_loc\u001b[0m\u001b[0;34m(\u001b[0m\u001b[0m_values_from_object\u001b[0m\u001b[0;34m(\u001b[0m\u001b[0mkey\u001b[0m\u001b[0;34m)\u001b[0m\u001b[0;34m)\u001b[0m\u001b[0;34m\u001b[0m\u001b[0m\n\u001b[0m\u001b[1;32m   1693\u001b[0m \u001b[0;34m\u001b[0m\u001b[0m\n\u001b[1;32m   1694\u001b[0m         indexer = self.get_indexer([key], method=method,\n",
      "\u001b[0;32mpandas/index.pyx\u001b[0m in \u001b[0;36mpandas.index.IndexEngine.get_loc (pandas/index.c:3979)\u001b[0;34m()\u001b[0m\n",
      "\u001b[0;32mpandas/index.pyx\u001b[0m in \u001b[0;36mpandas.index.IndexEngine.get_loc (pandas/index.c:3843)\u001b[0;34m()\u001b[0m\n",
      "\u001b[0;32mpandas/hashtable.pyx\u001b[0m in \u001b[0;36mpandas.hashtable.PyObjectHashTable.get_item (pandas/hashtable.c:12265)\u001b[0;34m()\u001b[0m\n",
      "\u001b[0;32mpandas/hashtable.pyx\u001b[0m in \u001b[0;36mpandas.hashtable.PyObjectHashTable.get_item (pandas/hashtable.c:12216)\u001b[0;34m()\u001b[0m\n",
      "\u001b[0;31mKeyError\u001b[0m: 'player'"
     ]
    }
   ],
   "source": [
    "complete = ass.join(score,rsuffix='_r', how = 'right')\n",
    "complete.head()"
   ]
  },
  {
   "cell_type": "code",
   "execution_count": 81,
   "metadata": {
    "collapsed": false
   },
   "outputs": [
    {
     "data": {
      "text/html": [
       "<div>\n",
       "<table border=\"1\" class=\"dataframe\">\n",
       "  <thead>\n",
       "    <tr style=\"text-align: right;\">\n",
       "      <th></th>\n",
       "      <th>subject_id</th>\n",
       "      <th>first_name</th>\n",
       "      <th>last_name</th>\n",
       "    </tr>\n",
       "  </thead>\n",
       "  <tbody>\n",
       "    <tr>\n",
       "      <th>0</th>\n",
       "      <td>1</td>\n",
       "      <td>Alex</td>\n",
       "      <td>Anderson</td>\n",
       "    </tr>\n",
       "    <tr>\n",
       "      <th>1</th>\n",
       "      <td>2</td>\n",
       "      <td>Amy</td>\n",
       "      <td>Ackerman</td>\n",
       "    </tr>\n",
       "    <tr>\n",
       "      <th>2</th>\n",
       "      <td>3</td>\n",
       "      <td>Allen</td>\n",
       "      <td>Ali</td>\n",
       "    </tr>\n",
       "    <tr>\n",
       "      <th>3</th>\n",
       "      <td>4</td>\n",
       "      <td>Alice</td>\n",
       "      <td>Aoni</td>\n",
       "    </tr>\n",
       "    <tr>\n",
       "      <th>4</th>\n",
       "      <td>5</td>\n",
       "      <td>Ayoung</td>\n",
       "      <td>Atiches</td>\n",
       "    </tr>\n",
       "  </tbody>\n",
       "</table>\n",
       "</div>"
      ],
      "text/plain": [
       "  subject_id first_name last_name\n",
       "0          1       Alex  Anderson\n",
       "1          2        Amy  Ackerman\n",
       "2          3      Allen       Ali\n",
       "3          4      Alice      Aoni\n",
       "4          5     Ayoung   Atiches"
      ]
     },
     "execution_count": 81,
     "metadata": {},
     "output_type": "execute_result"
    }
   ],
   "source": [
    "raw_data = {\n",
    "        'subject_id': ['1', '2', '3', '4', '5'],\n",
    "        'first_name': ['Alex', 'Amy', 'Allen', 'Alice', 'Ayoung'],\n",
    "        'last_name': ['Anderson', 'Ackerman', 'Ali', 'Aoni', 'Atiches']}\n",
    "df_a = pd.DataFrame(raw_data, columns = ['subject_id', 'first_name', 'last_name'])\n",
    "df_a"
   ]
  },
  {
   "cell_type": "code",
   "execution_count": 82,
   "metadata": {
    "collapsed": false
   },
   "outputs": [
    {
     "data": {
      "text/html": [
       "<div>\n",
       "<table border=\"1\" class=\"dataframe\">\n",
       "  <thead>\n",
       "    <tr style=\"text-align: right;\">\n",
       "      <th></th>\n",
       "      <th>subject_id</th>\n",
       "      <th>first_name</th>\n",
       "      <th>last_name</th>\n",
       "    </tr>\n",
       "  </thead>\n",
       "  <tbody>\n",
       "    <tr>\n",
       "      <th>0</th>\n",
       "      <td>4</td>\n",
       "      <td>Billy</td>\n",
       "      <td>Bonder</td>\n",
       "    </tr>\n",
       "    <tr>\n",
       "      <th>1</th>\n",
       "      <td>5</td>\n",
       "      <td>Brian</td>\n",
       "      <td>Black</td>\n",
       "    </tr>\n",
       "    <tr>\n",
       "      <th>2</th>\n",
       "      <td>6</td>\n",
       "      <td>Bran</td>\n",
       "      <td>Balwner</td>\n",
       "    </tr>\n",
       "    <tr>\n",
       "      <th>3</th>\n",
       "      <td>7</td>\n",
       "      <td>Bryce</td>\n",
       "      <td>Brice</td>\n",
       "    </tr>\n",
       "    <tr>\n",
       "      <th>4</th>\n",
       "      <td>8</td>\n",
       "      <td>Betty</td>\n",
       "      <td>Btisan</td>\n",
       "    </tr>\n",
       "  </tbody>\n",
       "</table>\n",
       "</div>"
      ],
      "text/plain": [
       "  subject_id first_name last_name\n",
       "0          4      Billy    Bonder\n",
       "1          5      Brian     Black\n",
       "2          6       Bran   Balwner\n",
       "3          7      Bryce     Brice\n",
       "4          8      Betty    Btisan"
      ]
     },
     "execution_count": 82,
     "metadata": {},
     "output_type": "execute_result"
    }
   ],
   "source": [
    "raw_data = {\n",
    "        'subject_id': ['4', '5', '6', '7', '8'],\n",
    "        'first_name': ['Billy', 'Brian', 'Bran', 'Bryce', 'Betty'],\n",
    "        'last_name': ['Bonder', 'Black', 'Balwner', 'Brice', 'Btisan']}\n",
    "df_b = pd.DataFrame(raw_data, columns = ['subject_id', 'first_name', 'last_name'])\n",
    "df_b"
   ]
  },
  {
   "cell_type": "code",
   "execution_count": 83,
   "metadata": {
    "collapsed": false
   },
   "outputs": [
    {
     "data": {
      "text/html": [
       "<div>\n",
       "<table border=\"1\" class=\"dataframe\">\n",
       "  <thead>\n",
       "    <tr style=\"text-align: right;\">\n",
       "      <th></th>\n",
       "      <th>subject_id</th>\n",
       "      <th>test_id</th>\n",
       "    </tr>\n",
       "  </thead>\n",
       "  <tbody>\n",
       "    <tr>\n",
       "      <th>0</th>\n",
       "      <td>1</td>\n",
       "      <td>51</td>\n",
       "    </tr>\n",
       "    <tr>\n",
       "      <th>1</th>\n",
       "      <td>2</td>\n",
       "      <td>15</td>\n",
       "    </tr>\n",
       "    <tr>\n",
       "      <th>2</th>\n",
       "      <td>3</td>\n",
       "      <td>15</td>\n",
       "    </tr>\n",
       "    <tr>\n",
       "      <th>3</th>\n",
       "      <td>4</td>\n",
       "      <td>61</td>\n",
       "    </tr>\n",
       "    <tr>\n",
       "      <th>4</th>\n",
       "      <td>5</td>\n",
       "      <td>16</td>\n",
       "    </tr>\n",
       "    <tr>\n",
       "      <th>5</th>\n",
       "      <td>7</td>\n",
       "      <td>14</td>\n",
       "    </tr>\n",
       "    <tr>\n",
       "      <th>6</th>\n",
       "      <td>8</td>\n",
       "      <td>15</td>\n",
       "    </tr>\n",
       "    <tr>\n",
       "      <th>7</th>\n",
       "      <td>9</td>\n",
       "      <td>1</td>\n",
       "    </tr>\n",
       "    <tr>\n",
       "      <th>8</th>\n",
       "      <td>10</td>\n",
       "      <td>61</td>\n",
       "    </tr>\n",
       "    <tr>\n",
       "      <th>9</th>\n",
       "      <td>11</td>\n",
       "      <td>16</td>\n",
       "    </tr>\n",
       "  </tbody>\n",
       "</table>\n",
       "</div>"
      ],
      "text/plain": [
       "  subject_id  test_id\n",
       "0          1       51\n",
       "1          2       15\n",
       "2          3       15\n",
       "3          4       61\n",
       "4          5       16\n",
       "5          7       14\n",
       "6          8       15\n",
       "7          9        1\n",
       "8         10       61\n",
       "9         11       16"
      ]
     },
     "execution_count": 83,
     "metadata": {},
     "output_type": "execute_result"
    }
   ],
   "source": [
    "raw_data = {\n",
    "        'subject_id': ['1', '2', '3', '4', '5', '7', '8', '9', '10', '11'],\n",
    "        'test_id': [51, 15, 15, 61, 16, 14, 15, 1, 61, 16]}\n",
    "df_n = pd.DataFrame(raw_data, columns = ['subject_id','test_id'])\n",
    "df_n\n"
   ]
  },
  {
   "cell_type": "code",
   "execution_count": null,
   "metadata": {
    "collapsed": true
   },
   "outputs": [],
   "source": []
  }
 ],
 "metadata": {
  "kernelspec": {
   "display_name": "Python 2",
   "language": "python",
   "name": "python2"
  },
  "language_info": {
   "codemirror_mode": {
    "name": "ipython",
    "version": 2
   },
   "file_extension": ".py",
   "mimetype": "text/x-python",
   "name": "python",
   "nbconvert_exporter": "python",
   "pygments_lexer": "ipython2",
   "version": "2.7.10"
  }
 },
 "nbformat": 4,
 "nbformat_minor": 0
}
